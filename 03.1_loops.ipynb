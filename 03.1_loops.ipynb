{
 "cells": [
  {
   "cell_type": "markdown",
   "metadata": {},
   "source": [
    "![Practicum AI Logo image](https://github.com/PracticumAI/practicumai.github.io/blob/main/images/logo/PracticumAI_logo_250x50.png?raw=true)  <img src='https://github.com/PracticumAI/practicumai.github.io/blob/main/images/icons/practicumai_python.png?raw=true' align='right' width=50>\n",
    "\n",
    "# *Practicum AI Python*: Loops\n",
    "\n",
    "***\n",
    "This exercise adapted from Bird et al. (2019) <i>The Python Workshop</i> from <a href=\"https://www.packtpub.com/product/the-python-workshop/9781839218859\">Packt Publishers</a> and the <a href=\"https://github.com/swcarpentry/python-novice-gapminder\">Software Carpentries</a>\n",
    "\n",
    "(10 Minutes: Presentation)\n",
    "\n",
    "***\n",
    "\n",
    "Loops are one of those foundational computer programming concepts that underlie a lot of what you will do, even if you don't *explicitly* write a loop yourself. People get bored doing the same thing over and over....\n",
    "\n",
    "![GIF of Nick Kyrgios saying \"Over and over and over and over\"](images/loop.gif)\n",
    "\n",
    "But, computers don't get bored! We will look at two main types of loops:\n",
    "\n",
    "1. `for` loops: *for* each item in a list of items, do something\n",
    "1. `while` loops: *while* some condition is met, do something\n",
    "\n",
    "\n",
    "## 1. `for` Loops\n",
    "\n",
    "If we had to find the longest word on each line of a big book, we'd quickly get tired! Buy, if we ask the computer to do this, it will happily comply. All we need to do is:\n",
    "\n",
    "   1. Give the computer a list (of the lines in the book)\n",
    "   1. Tell it what we want it to do for each item in the list (find the longest word)\n",
    "      * Note that this could be written as nested loop: Once the computer gets a line, make a new loop to look at each word of that line.\n",
    "\n",
    "Another step toward putting this into code would be:\n",
    "\n",
    "For every line in this book,\n",
    "  find the longest word\n",
    "  and save information about that word in a variable\n",
    "\n",
    "For loops are used heavily in coding. The example above looked at each line of a book, but we can imagine loops of each photo in a folder, each number from one to a million, each person on the email list, each car in the parking lot...we could go on, and on, and on... 😉 \n",
    "\n",
    "Now we will look at writing a loop in code. \n",
    "\n",
    "Here's an example that prints each of the values in a list of numbers:\n"
   ]
  },
  {
   "cell_type": "code",
   "execution_count": null,
   "metadata": {},
   "outputs": [],
   "source": [
    "for number in [2, 3, 5]:\n",
    "    print(number)"
   ]
  },
  {
   "cell_type": "markdown",
   "metadata": {},
   "source": [
    "* This `for` loop is equivalent to:"
   ]
  },
  {
   "cell_type": "code",
   "execution_count": null,
   "metadata": {},
   "outputs": [],
   "source": [
    "print(2)\n",
    "print(3)\n",
    "print(5)"
   ]
  },
  {
   "cell_type": "markdown",
   "metadata": {},
   "source": [
    "### 1.1 A `for` loop is made up of a collection, a loop variable, and a body"
   ]
  },
  {
   "cell_type": "code",
   "execution_count": null,
   "metadata": {
    "tags": []
   },
   "outputs": [],
   "source": [
    "for number in [2, 3, 5]:\n",
    "    print(number)"
   ]
  },
  {
   "cell_type": "markdown",
   "metadata": {},
   "source": [
    "* The collection, `[2, 3, 5]`, is what the loop is being run on.\n",
    "* The loop variable, `number`, is what changes for each *iteration* of the loop.\n",
    "    * The \"current item\".\n",
    "* The body, `print(number)`, specifies what to do for each item in the collection.\n"
   ]
  },
  {
   "cell_type": "markdown",
   "metadata": {},
   "source": [
    "### 1.2 Python syntax and `for` loops\n",
    "\n",
    "Many computing languages use special words or characters to designate the start and end of the body of loops. Good coding practice suggests using line breaks and indentation to make code readable. Python takes things a step further and uses line breaks and indentation to designate the start and end of the body of loops.\n",
    "\n",
    "\n",
    "The first line of the `for` loop must end with a colon, and the body must be indented.\n",
    "\n",
    "* The colon at the end of the first line signals the start of a *block* of statements.\n",
    "* Python uses indentation rather than `{}` or `begin/end` to show nesting as compared to many other languages.\n",
    "    * Any **consistent** indentation is legal (spaces or tabs), but PEP-8 suggests four spaces.\n",
    "    \n"
   ]
  },
  {
   "cell_type": "code",
   "execution_count": null,
   "metadata": {},
   "outputs": [],
   "source": [
    "for number in [2, 3, 5]:\n",
    "print(number)"
   ]
  },
  {
   "cell_type": "markdown",
   "metadata": {},
   "source": [
    "* Indentation is always meaningful in Python."
   ]
  },
  {
   "cell_type": "code",
   "execution_count": null,
   "metadata": {},
   "outputs": [],
   "source": [
    "firstName=\"Jon\"\n",
    "  lastName=\"Smith\""
   ]
  },
  {
   "cell_type": "markdown",
   "metadata": {},
   "source": [
    "### 1.3 Loop variables can be called anything\n",
    "\n",
    "* As with all variables, loop variables are:\n",
    "    * Created on demand.\n",
    "    * Meaningless to Python: their names can be anything at all--but should be meaningful to you and readers!\n",
    "        * Good suggestions are singular/plural pairs: `for item in items:`, `for record in records:`, etc."
   ]
  },
  {
   "cell_type": "code",
   "execution_count": null,
   "metadata": {},
   "outputs": [],
   "source": [
    "for kitten in [2, 3, 5]:\n",
    "    print(kitten)"
   ]
  },
  {
   "cell_type": "markdown",
   "metadata": {},
   "source": [
    "### 1.4 The body of a loop can contain many statements\n",
    "\n",
    "* But longer loops can be difficult to read!\n",
    "* Hard for human beings to keep larger chunks of code in mind."
   ]
  },
  {
   "cell_type": "code",
   "execution_count": null,
   "metadata": {},
   "outputs": [],
   "source": [
    "primes = [2, 3, 5]\n",
    "for p in primes:\n",
    "    squared = p ** 2\n",
    "    cubed = p ** 3\n",
    "    print(p, squared, cubed)"
   ]
  },
  {
   "cell_type": "markdown",
   "metadata": {},
   "source": [
    "### 1.5 Use `range` to iterate over a sequence of numbers\n",
    "\n",
    "* The built-in function `range` produces a sequence of numbers.\n",
    "    * *Not* a list: the numbers are produced on demand to make looping over large ranges more efficient.\n",
    "* `range(N)` is the numbers 0..N-1\n",
    "    * Exactly the legal indices of a list or character string of length N"
   ]
  },
  {
   "cell_type": "code",
   "execution_count": null,
   "metadata": {},
   "outputs": [],
   "source": [
    "print('a range is not a list: range(0, 3)')\n",
    "for number in range(0,3):\n",
    "    print(number)"
   ]
  },
  {
   "cell_type": "markdown",
   "metadata": {},
   "source": [
    "## 2. A *while loop* executes commands as long as a condition is True\n",
    "\n",
    "![Groundhog Day Image](images/groundhog_day.jpg)\n",
    "\n",
    "In the comedy *Groundhog Day*, Bill Murray plays Phil Connors, a disgruntled TV weatherman who’s sent to Punxsutawney, PA to cover the story of Punxsutawney Phil, the town’s famous groundhog who can predict either an early spring or extended winter depending on whether he sees his shadow or not. While there, Phil Connors gets caught in a time warp, reliving the same day over and over again until he learns to value each moment and the people he works with.\n",
    "\n",
    "As we learned in the previous section, `for` loops allow you to repeat a specific action over and over again. For example, you could define a groundhog loop that repeats a specified number of times, forcing Phil Connors to relive the same day until the loop reaches a defined limit.\n",
    "\n",
    "You could do the same thing using a `while` loop.  However, the while loop is a special animal as you must provide a condition which eventually evaluates to False.  Otherwise, Phil Connors will never exit Groundhog day, caught in a loop with no end in sight.\n",
    "\n",
    "<div style=\"padding: 10px;margin-bottom: 20px;border: thin solid #af1830;border-left-width: 10px;background-color: #fff\"><p><i class=\"fa-solid fa-triangle-exclamation\"></i> <strong>Warning:</strong> If an expected while condition never becomes False, the loop continues indefinitely - also known as an infinite loop.  Because of this, the for loop is a safer option.  When using a while loop, always ensure that an exit condition exists!</p></div>"
   ]
  },
  {
   "cell_type": "code",
   "execution_count": null,
   "metadata": {},
   "outputs": [],
   "source": [
    "number = 0\n",
    "\n",
    "while number < 10:\n",
    "    print(f\"Number is {number}!\")\n",
    "    number = number + 1"
   ]
  },
  {
   "cell_type": "markdown",
   "metadata": {},
   "source": [
    "## Exercise 1: Real Estate Sale -- `while` loop \n",
    "\n",
    "\n",
    "  <div style=\"padding: 10px;margin-bottom: 20px;border: thin solid #E5C250;border-left-width: 10px;background-color: #fff\">\n",
    "    <p><strong>Tip:</strong> These exercises make use of <strong>conditionals</strong>. You may want to save these until after completing the next notebook, <a href='03.2_conditionals'>03.2_conditionals</a>.</p>\n",
    "   </div>\n",
    "   \n",
    "   <img src='images/house.png' width=100 align='right' alt='A drawing of house for sale'>\n",
    "In this exercise, we will run a real estate sales offer! We'll start with some code to setup the sale and write a loop to run the bidding process.\n",
    "\n",
    "We're selling a \"quaint\" 1-bedroom in the Bay Area valued at $599,000.\n",
    "\n"
   ]
  },
  {
   "cell_type": "code",
   "execution_count": null,
   "metadata": {},
   "outputs": [],
   "source": [
    "# Setup some variables\n",
    "\n",
    "min_accept = 650000 # Set the minimum acceptable offer\n",
    "increment = 10000 # Set amount each offer is increased until it is accepted"
   ]
  },
  {
   "cell_type": "code",
   "execution_count": null,
   "metadata": {},
   "outputs": [],
   "source": [
    "# Get user's initial offer using the input() function\n",
    "# When this cell is run, user will be prompted to input a value\n",
    "# This is stored in the offer variable\n",
    "\n",
    "print('Enter your starting offer: $')\n",
    "offer = abs(int(input()))\n",
    "                "
   ]
  },
  {
   "cell_type": "code",
   "execution_count": null,
   "metadata": {},
   "outputs": [],
   "source": [
    "# Run the loop to see if the offer is accepted\n",
    "\n",
    "offer_accepted = False # Set our loop control variable to False\n",
    "\n",
    "while offer_accepted == False:\n",
    "    if offer < min_accept:\n",
    "        print(f'Your offer of ${offer}, has not been accepted.')\n",
    "        offer += increment # += is shorthand for offer = offer + increment\n",
    "    if offer >= min_accept:\n",
    "        print(f'Congratulations! Your offer of ${offer} has been accepted!!!!')\n",
    "        offer_accepted = True\n",
    "print(f'Bidding over, please pay ${offer}...')"
   ]
  },
  {
   "cell_type": "markdown",
   "metadata": {},
   "source": [
    "While loops can be thought of from different sides. In the above example, we use the condition `offer_accepted == False` for the controling condition. While that was true, the loop would continue to run.\n",
    "\n",
    "Rewrite that loop using the control condition: `offer_too_low`. We've setup the start of the code:"
   ]
  },
  {
   "cell_type": "code",
   "execution_count": null,
   "metadata": {},
   "outputs": [],
   "source": [
    "# Rewrite the loop to use offer_too_low controlling condition\n",
    "\n",
    "offer_too_low = True\n",
    "\n",
    "while offer_too_low: # Not that since offer_too_low is True, we don't need to add the == True\n",
    "    # Add your code here to finish the loop\n",
    "    "
   ]
  },
  {
   "cell_type": "markdown",
   "metadata": {},
   "source": [
    "## Exercise 2. Count the letters -- `for` loop\n",
    "\n",
    "<div style=\"padding: 10px;margin-bottom: 20px;border: thin solid #AF1830;border-left-width: 10px;background-color: #fff\"><strong>Warning:</strong> This exercise does not work if you are running this notebook in Colab.</div>\n",
    "\n",
    "In this exercise we will use a for loop to count the number of different types of image files in the `images` folder of this repository. This example will also introduce you to the `os` module.\n",
    "\n",
    "We will use the `os.splitext` method which splits a path into everything prior to the final period and everything from the final period on. So, `images/photo.jpg` would return `('images/photo','.jpg')`. Note that this is another data type called a tuple. This is similar to a list in many ways."
   ]
  },
  {
   "cell_type": "code",
   "execution_count": null,
   "metadata": {},
   "outputs": [],
   "source": [
    "import os\n",
    "\n",
    "# Note this assumes this is run in the same folder as the repository and the images folder exists\n",
    "files = os.listdir('images')\n",
    "\n",
    "file_count = 0 # Initialize a counting variable\n",
    "file_type = '.jpg' # Set type of file to count\n",
    "\n",
    "for file in files:\n",
    "    extension = os.path.splitext(file)[1]\n",
    "    if extension == file_type:\n",
    "        file_count += 1\n",
    "\n",
    "print(f'There are {file_count} \"{file_type}\" files in the images folder.')"
   ]
  },
  {
   "cell_type": "markdown",
   "metadata": {},
   "source": [
    "#### Exercise 2.1\n",
    "\n",
    "Change the code above to count files that are either `.jpg` or `.png` files."
   ]
  },
  {
   "cell_type": "code",
   "execution_count": null,
   "metadata": {},
   "outputs": [],
   "source": []
  },
  {
   "cell_type": "markdown",
   "metadata": {},
   "source": [
    "#### Exercise 2.2\n",
    "Change the code above to count how many of each file type there are among the types: `.jpg`, `.png`, `.gif`\n"
   ]
  },
  {
   "cell_type": "code",
   "execution_count": null,
   "metadata": {},
   "outputs": [],
   "source": []
  },
  {
   "cell_type": "markdown",
   "metadata": {},
   "source": [
    "***\n",
    "\n",
    "## Bonus Questions"
   ]
  },
  {
   "cell_type": "markdown",
   "metadata": {},
   "source": [
    "#### Q1: Classifying Errors"
   ]
  },
  {
   "cell_type": "markdown",
   "metadata": {},
   "source": [
    "Is an indentation error a syntax error or a runtime error?"
   ]
  },
  {
   "cell_type": "markdown",
   "metadata": {},
   "source": [
    "**Solution**\n",
    "\n",
    "Click on the '...' below to show the solution."
   ]
  },
  {
   "cell_type": "code",
   "execution_count": null,
   "metadata": {
    "jupyter": {
     "source_hidden": true
    }
   },
   "outputs": [],
   "source": [
    "# An `IndentationError` is a syntax error. Programs with syntax errors cannot \n",
    "# be started.  A program with a runtime error will start but an error will be \n",
    "# thrown under certain conditions."
   ]
  },
  {
   "cell_type": "markdown",
   "metadata": {},
   "source": [
    "#### Q2: Tracing Execution"
   ]
  },
  {
   "cell_type": "markdown",
   "metadata": {},
   "source": [
    "Create a table showing the numbers of the lines that are executed when this program runs, and the values of the variables after each line is executed."
   ]
  },
  {
   "cell_type": "code",
   "execution_count": null,
   "metadata": {},
   "outputs": [],
   "source": [
    "total = 0\n",
    "for char in \"tin\":\n",
    "    total = total + 1"
   ]
  },
  {
   "cell_type": "markdown",
   "metadata": {},
   "source": [
    "**Solution**\n",
    "\n",
    "Click on the '...' below to show the solution."
   ]
  },
  {
   "cell_type": "code",
   "execution_count": null,
   "metadata": {
    "jupyter": {
     "source_hidden": true
    }
   },
   "outputs": [],
   "source": [
    "| Line no | Variables            |\n",
    "|---------|----------------------|\n",
    "| 1       | total = 0            |\n",
    "| 2       | total = 0 char = 't' |\n",
    "| 3       | total = 1 char = 't' |\n",
    "| 2       | total = 1 char = 'i' |\n",
    "| 3       | total = 2 char = 'i' |\n",
    "| 2       | total = 2 char = 'n' |\n",
    "| 3       | total = 3 char = 'n' |\n"
   ]
  },
  {
   "cell_type": "markdown",
   "metadata": {},
   "source": [
    "#### Q3: Reversing a String"
   ]
  },
  {
   "cell_type": "markdown",
   "metadata": {},
   "source": [
    "Fill in the blanks in the program below so that it prints “nit” (the reverse of the original character string “tin”)."
   ]
  },
  {
   "cell_type": "code",
   "execution_count": null,
   "metadata": {},
   "outputs": [],
   "source": [
    "original = \"tin\"\n",
    "result = ____\n",
    "for char in original:\n",
    "    result = ____\n",
    "print(result)"
   ]
  },
  {
   "cell_type": "markdown",
   "metadata": {},
   "source": [
    "**Solution**\n",
    "\n",
    "Click on the '...' below to show the solution."
   ]
  },
  {
   "cell_type": "code",
   "execution_count": null,
   "metadata": {
    "jupyter": {
     "source_hidden": true
    }
   },
   "outputs": [],
   "source": [
    "original = \"tin\"\n",
    "result = \"\"\n",
    "for char in original:\n",
    "    result = char + result\n",
    "print(result)"
   ]
  },
  {
   "cell_type": "markdown",
   "metadata": {},
   "source": [
    "#### Q4: Practice Accumulating"
   ]
  },
  {
   "cell_type": "markdown",
   "metadata": {},
   "source": [
    "Fill in the blanks in each of the programs below to produce the indicated result."
   ]
  },
  {
   "cell_type": "code",
   "execution_count": null,
   "metadata": {},
   "outputs": [],
   "source": [
    "# Total length of the strings in the list: [\"red\", \"green\", \"blue\"] => 12\n",
    "total = 0\n",
    "for word in [\"red\", \"green\", \"blue\"]:\n",
    "    ____ = ____ + len(word)\n",
    "print(total)"
   ]
  },
  {
   "cell_type": "code",
   "execution_count": null,
   "metadata": {},
   "outputs": [],
   "source": [
    "# List of word lengths: [\"red\", \"green\", \"blue\"] => [3, 5, 4]\n",
    "lengths = ____\n",
    "for word in [\"red\", \"green\", \"blue\"]:\n",
    "    lengths.____(____)\n",
    "print(lengths)"
   ]
  },
  {
   "cell_type": "code",
   "execution_count": null,
   "metadata": {},
   "outputs": [],
   "source": [
    "# Concatenate all words: [\"red\", \"green\", \"blue\"] => \"redgreenblue\"\n",
    "words = [\"red\", \"green\", \"blue\"]\n",
    "result = ____\n",
    "for ____ in ____:\n",
    "    ____\n",
    "print(result)"
   ]
  },
  {
   "cell_type": "code",
   "execution_count": null,
   "metadata": {},
   "outputs": [],
   "source": [
    "# Create acronym: [\"red\", \"green\", \"blue\"] => \"RGB\"\n",
    "# write the whole thing"
   ]
  },
  {
   "cell_type": "markdown",
   "metadata": {},
   "source": [
    "**Solution**\n",
    "\n",
    "Click on the '...' below to show the solution."
   ]
  },
  {
   "cell_type": "code",
   "execution_count": null,
   "metadata": {
    "jupyter": {
     "source_hidden": true
    }
   },
   "outputs": [],
   "source": [
    "total = 0\n",
    "for word in [\"red\", \"green\", \"blue\"]:\n",
    "    total = total + len(word)\n",
    "print(total)\n",
    "\n",
    "lengths = []\n",
    "for word in [\"red\", \"green\", \"blue\"]:\n",
    "    lengths.append(len(word))\n",
    "print(lengths)\n",
    "\n",
    "words = [\"red\", \"green\", \"blue\"]\n",
    "result = \"\"\n",
    "for word in words:\n",
    "    result = result + word\n",
    "print(result)\n",
    "\n",
    "acronym = \"\"\n",
    "for word in [\"red\", \"green\", \"blue\"]:\n",
    "    acronym = acronym + word[0].upper()\n",
    "print(acronym)\n",
    "\n"
   ]
  },
  {
   "cell_type": "markdown",
   "metadata": {},
   "source": [
    "#### Q5: Cumulative Sum"
   ]
  },
  {
   "cell_type": "markdown",
   "metadata": {},
   "source": [
    "Reorder and properly indent the lines of code below so that they print an array with the cumulative sum of data. The result should be `[1, 3, 5, 10]`."
   ]
  },
  {
   "cell_type": "code",
   "execution_count": null,
   "metadata": {},
   "outputs": [],
   "source": [
    "cumulative += [sum]\n",
    "for number in data:\n",
    "cumulative = []\n",
    "sum += number\n",
    "sum = 0\n",
    "print(cumulative)\n",
    "data = [1,2,2,5]"
   ]
  },
  {
   "cell_type": "markdown",
   "metadata": {},
   "source": [
    "**Solution**\n",
    "\n",
    "Click on the '...' below to show the solution."
   ]
  },
  {
   "cell_type": "code",
   "execution_count": null,
   "metadata": {
    "jupyter": {
     "source_hidden": true
    }
   },
   "outputs": [],
   "source": [
    "sum = 0\n",
    "data = [1,2,2,5]\n",
    "cumulative = []\n",
    "\n",
    "for number in data:\n",
    "    sum += number\n",
    "    cumulative.append(sum)\n",
    "print(cumulative)"
   ]
  },
  {
   "cell_type": "markdown",
   "metadata": {},
   "source": [
    "#### Q6: Identifying Variable Name Errors"
   ]
  },
  {
   "cell_type": "markdown",
   "metadata": {},
   "source": [
    "1. Read the code below and try to identify what the errors are without running it.\n",
    "2. Run the code and read the error message. What type of `NameError` do you think this is? Is it a string with no quotes, a misspelled variable, or a variable that should have been defined but was not?\n",
    "3. Fix the error.\n",
    "4. Repeat steps 2 and 3, until you have fixed all the errors.\n"
   ]
  },
  {
   "cell_type": "code",
   "execution_count": null,
   "metadata": {},
   "outputs": [],
   "source": [
    "for number in range(10):\n",
    "    # use a if the number is a multiple of 3, otherwise use b\n",
    "    if (Number % 3) == 0:\n",
    "        message = message + a\n",
    "    else:\n",
    "        message = message + \"b\"\n",
    "print(message)"
   ]
  },
  {
   "cell_type": "markdown",
   "metadata": {},
   "source": [
    "**Solution**\n",
    "\n",
    "Click on the '...' below to show the solution."
   ]
  },
  {
   "cell_type": "code",
   "execution_count": null,
   "metadata": {
    "jupyter": {
     "source_hidden": true
    }
   },
   "outputs": [],
   "source": [
    "sum = 0\n",
    "data = [1,2,2,5]\n",
    "cumulative = []\n",
    "\n",
    "for number in data:\n",
    "    sum += number\n",
    "    cumulative.append(sum)\n",
    "print(cumulative)"
   ]
  },
  {
   "cell_type": "markdown",
   "metadata": {},
   "source": [
    "#### Q7: Identifying Items"
   ]
  },
  {
   "cell_type": "markdown",
   "metadata": {},
   "source": [
    "1. Read the code below and try to identify what the errors are without running it.\n",
    "2. Run the code, and read the error message. What type of error is it?\n",
    "3. Fix the error."
   ]
  },
  {
   "cell_type": "code",
   "execution_count": null,
   "metadata": {},
   "outputs": [],
   "source": [
    "seasons = ['Spring', 'Summer', 'Fall', 'Winter']\n",
    "print('My favorite season is ', seasons[4])"
   ]
  },
  {
   "cell_type": "markdown",
   "metadata": {},
   "source": [
    "**Solution**\n",
    "\n",
    "Click on the '...' below to show the solution."
   ]
  },
  {
   "cell_type": "code",
   "execution_count": null,
   "metadata": {
    "jupyter": {
     "source_hidden": true
    }
   },
   "outputs": [],
   "source": [
    "# This list has 4 elements and the index to access the last element in the list 3."
   ]
  }
 ],
 "metadata": {
  "kernelspec": {
   "display_name": "UFRC Python-3.8",
   "language": "python",
   "name": "python3-3.8-ufrc"
  },
  "language_info": {
   "codemirror_mode": {
    "name": "ipython",
    "version": 3
   },
   "file_extension": ".py",
   "mimetype": "text/x-python",
   "name": "python",
   "nbconvert_exporter": "python",
   "pygments_lexer": "ipython3",
   "version": "3.8.5"
  }
 },
 "nbformat": 4,
 "nbformat_minor": 4
}
