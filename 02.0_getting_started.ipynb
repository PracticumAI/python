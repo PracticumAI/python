{
 "cells": [
  {
   "cell_type": "markdown",
   "metadata": {},
   "source": [
    "![Practicum AI Logo image](https://github.com/PracticumAI/practicumai.github.io/blob/main/images/logo/PracticumAI_logo_250x50.png?raw=true) <img src='https://github.com/PracticumAI/practicumai.github.io/blob/main/images/icons/practicumai_python.png?raw=true' align='right' width=50>\n",
    "\n",
    "# *Practicum AI Python*: Getting Started - Part 2\n",
    "\n",
    "This is a continuation from [Part 1](01.1_getting_started_teacher.ipynb) of the Getting Started notebook.\n",
    "\n",
    "This exercise is adapted from Bird et al. (2019) <i>The Python Workshop</i> from <a href=\"https://www.packtpub.com/product/the-python-workshop/9781839218859\">Packt Publishers</a> and the <a href=\"https://github.com/swcarpentry/python-novice-gapminder\">Software Carpentries</a>.\n",
    "\n",
    "***"
   ]
  },
  {
   "cell_type": "markdown",
   "metadata": {},
   "source": [
    "## 1. Displaying Strings\n",
    "\n",
    "Let's look some more at the `print()` function.\n",
    "\n",
    "We've seen that we can get the value of a variable by listing it as the last line of a Jupyter cell or by enclosing it in a `print()` statement. Importantly the first way only works when it's the last line of the code block:"
   ]
  },
  {
   "cell_type": "code",
   "execution_count": 1,
   "metadata": {},
   "outputs": [],
   "source": [
    "# Notice that this block produces no output!\n",
    "\n",
    "spanish_greeting = 'Hola'\n",
    "spanish_greeting\n",
    "arabic_greeting = 'Ahlan was sahlan'"
   ]
  },
  {
   "cell_type": "markdown",
   "metadata": {},
   "source": [
    "Fix the codeblock above to print both the Spanish and Arabic greeting text."
   ]
  },
  {
   "cell_type": "markdown",
   "metadata": {},
   "source": [
    "### 1.1 String Interpolation\n",
    "\n",
    "String interpolations is the process of substituting the values of variables into placeholders in a string. For example, if I want to print something like: `Hola Matt!` but use the `first_name` variable to set the name to print.\n",
    "\n",
    "There are several methods in Python to do string interpolation. The following is redrawn from [this GeeksforGeeks article](https://www.geeksforgeeks.org/python-string-interpolation/).\n",
    "\n",
    "![Python string interpolation diagram](images/string_interpolation.png)\n",
    "\n",
    "We'll quickly look at each method and link to additional resources.\n",
    "\n",
    "Let's start by setting up some strings to play with:\n"
   ]
  },
  {
   "cell_type": "code",
   "execution_count": 3,
   "metadata": {},
   "outputs": [],
   "source": [
    "mascot = 'Gator'\n",
    "likes = 'AI classes'\n",
    "how_much = 100"
   ]
  },
  {
   "cell_type": "markdown",
   "metadata": {},
   "source": [
    "#### 1.1.1 Modulo (`%`) formatting\n",
    "\n",
    "We can use the modulo operator with strings for interpolation:\n",
    "\n",
    "```python\n",
    "print(\"%s fans like %s %d%%!\" %(mascot, likes, how_much))\n",
    "```\n",
    "\n",
    "After each `%` operator, we tell Python how to format the variable--`s` for string, `d` for digits (integers), `f` for floating point.\n",
    "\n",
    "Note that in this case, the double `%%`-sings are interpreted as a \"literal\" percent.\n",
    "\n",
    "[This article](https://www.geeksforgeeks.org/string-formatting-in-python-using/) provides more information and examples on the modulo operator."
   ]
  },
  {
   "cell_type": "code",
   "execution_count": null,
   "metadata": {},
   "outputs": [],
   "source": [
    "# Add your code here from above\n"
   ]
  },
  {
   "cell_type": "markdown",
   "metadata": {},
   "source": [
    "Use the modulo formatting and the variables we have defined above to print the text (values that should come from the variables are in bold): \n",
    "> **AI classes** are free for **Gator**s, but cost $**100** for others.\n",
    "\n",
    "Not true...just playing with text 😉!"
   ]
  },
  {
   "cell_type": "code",
   "execution_count": null,
   "metadata": {},
   "outputs": [],
   "source": [
    "# Add your code here\n",
    "print(\"%s are free for %ss, but cost $%d for others.\" %(likes, mascot, how_much))"
   ]
  },
  {
   "cell_type": "markdown",
   "metadata": {
    "jp-MarkdownHeadingCollapsed": true,
    "tags": []
   },
   "source": [
    "#### 1.1.2 `.format()` formatting\n",
    "\n",
    "The `.format()` method works by placing replacement fields in the text using curly braces, \"{}\". The values to interpolate are passes in the `.format()` method.\n",
    "\n",
    "[This article](https://www.geeksforgeeks.org/python-string-format-method/) provides more information and examples of the `.format()` method.\n",
    "\n",
    "```python\n",
    "print(\"{} fans like {} {}%!\".format(mascot, likes, how_much))\n",
    "```"
   ]
  },
  {
   "cell_type": "code",
   "execution_count": null,
   "metadata": {},
   "outputs": [],
   "source": [
    "# Add your code here from above\n"
   ]
  },
  {
   "cell_type": "markdown",
   "metadata": {},
   "source": [
    "Now use the .format method to print:\n",
    "> **AI classes** are free for **Gator**s, but cost $**100** for others."
   ]
  },
  {
   "cell_type": "code",
   "execution_count": null,
   "metadata": {},
   "outputs": [],
   "source": [
    "# Add your code here\n"
   ]
  },
  {
   "cell_type": "markdown",
   "metadata": {
    "jp-MarkdownHeadingCollapsed": true,
    "tags": []
   },
   "source": [
    "#### 1.1.3 f-strings\n",
    "\n",
    "The final method of interpolation we will cover is f-stings (named for the `f` in front of the string), which were introduced in Python 3.6.  As a relatively new method, there are few examples that use it, but we at Practicum AI are big fans and use it a lot. We think it's the easiest method to use and understand.  \n",
    "\n",
    "Also, f-strings support a full range of formatting options, equivalent to those available with the modulo and .format() options.  So you don't lose any functionality!  See the documentation at [Zetcode](https://zetcode.com/python/fstring/) for examples.\n",
    "\n",
    "To create an f-string, prefix the string with the letter \"f\". f-strings provide a concise and convenient way to embed Python expressions inside strings.\n",
    "\n",
    "Here's our example text again with f-string formatting:\n",
    "\n",
    "```python\n",
    "print(f\"{mascot} fans like {likes} {how_much}%!\")\n",
    "```"
   ]
  },
  {
   "cell_type": "code",
   "execution_count": null,
   "metadata": {},
   "outputs": [],
   "source": [
    "# Add your code here from above\n"
   ]
  },
  {
   "cell_type": "markdown",
   "metadata": {},
   "source": [
    "Finally, use f-strings to print:\n",
    "> **AI classes** are free for **Gator**s, but cost $**100** for others."
   ]
  },
  {
   "cell_type": "code",
   "execution_count": null,
   "metadata": {},
   "outputs": [],
   "source": [
    "# Add your code here\n"
   ]
  },
  {
   "cell_type": "markdown",
   "metadata": {},
   "source": [
    "### 1.2 Why so many methods?\n",
    "\n",
    "It may seem overwhelming to see all of these methods to do essentially the same thing. But a few notes on that...\n",
    "* It is almost always the case that there is more than one way to do something\n",
    "* Being generally familiar with different ways will help you as you search for help\n",
    "* Sometimes one method is easier than another, but largely pick one that works for you and be consistent!"
   ]
  },
  {
   "cell_type": "markdown",
   "metadata": {},
   "source": [
    "## 2. The `dir` function\n",
    "\n",
    "When we create a Python variable, we are creating an instance of a class. We talked about variable types above. Each type has its own class, and each class has its own properties and *methods* or things that objects of that class can do.\n",
    "\n",
    "The `dir` function can help you explore the methods available for an object."
   ]
  },
  {
   "cell_type": "code",
   "execution_count": null,
   "metadata": {},
   "outputs": [],
   "source": [
    "stuff='Hello, world!'\n",
    "print(type(stuff))\n",
    "dir(stuff)"
   ]
  },
  {
   "cell_type": "code",
   "execution_count": null,
   "metadata": {},
   "outputs": [],
   "source": [
    "help(str.upper)"
   ]
  },
  {
   "cell_type": "code",
   "execution_count": null,
   "metadata": {},
   "outputs": [],
   "source": [
    "word='banana'\n",
    "print(word.upper())"
   ]
  },
  {
   "cell_type": "code",
   "execution_count": null,
   "metadata": {},
   "outputs": [],
   "source": [
    "index = word.find('a')\n",
    "print(index)"
   ]
  },
  {
   "cell_type": "code",
   "execution_count": null,
   "metadata": {},
   "outputs": [],
   "source": [
    "line='  Here we go  '\n",
    "line.strip()"
   ]
  },
  {
   "cell_type": "code",
   "execution_count": null,
   "metadata": {},
   "outputs": [],
   "source": [
    "# You can combine methods too...but order matters!!!\n",
    "line='Here we go'\n",
    "print(line.startswith(\"h\"))\n",
    "print(line.lower().startswith(\"h\"))\n",
    "\n",
    "# This print statement fails because the lower() method comes before startswith()...\n",
    "print(line.startswith(\"h\").lower())"
   ]
  },
  {
   "cell_type": "markdown",
   "metadata": {},
   "source": [
    "### 2.1 Variable Methods \n",
    "\n",
    "Explore methods available for strings, integers and more. \n",
    "\n",
    "In addition to the `dir` function, when using Jupyter, the `Tab`-key can show you options. If your type the name of an existing variable and the '`.`' then hit the `Tab`-key, you should see a list of methods as shown in the screenshot below:\n",
    "\n",
    "![Screenshot of Tab-key display of variable methods](images/tab_methods.png)"
   ]
  },
  {
   "cell_type": "code",
   "execution_count": 11,
   "metadata": {},
   "outputs": [],
   "source": [
    "# Explore some additional string methods\n"
   ]
  },
  {
   "cell_type": "code",
   "execution_count": null,
   "metadata": {},
   "outputs": [],
   "source": [
    "# Create an integer variable and explore some integer methods\n"
   ]
  },
  {
   "cell_type": "code",
   "execution_count": 10,
   "metadata": {},
   "outputs": [],
   "source": [
    "# Below is a list variable, explore some list methods in the next cell\n",
    "my_list = [1, 2, 3, 4]"
   ]
  },
  {
   "cell_type": "code",
   "execution_count": null,
   "metadata": {},
   "outputs": [],
   "source": [
    "# Explore list methods available to my_list\n"
   ]
  },
  {
   "cell_type": "markdown",
   "metadata": {},
   "source": [
    "## 3. Every value has a type\n",
    "\n",
    "\n",
    "* Every value has a specific type.\n",
    "* Python **infers** the type, so we do not have to *explicitly* declare the type. This can be convenient, but also causes problems at times.\n",
    "* Some examples data types:\n",
    "   * Integer (`int`): represents positive or negative whole numbers like 3 or -512.\n",
    "   * Floating point number (`float`): represents real, or floating point, numbers with a decimal, like 3.14159 or -2.5.\n",
    "   * Character string (usually called \"string\", `str`): text.\n",
    "      * Written in either single quotes or double quotes (as long as they match).\n",
    "      * The quote marks aren't printed when the string is displayed.\n",
    "* Several Python data types are pictured below with examples. There are more types, and users can define their own types too.\n",
    "\n",
    "![Python data types](./images/python_datatypes.jpg)"
   ]
  },
  {
   "cell_type": "markdown",
   "metadata": {},
   "source": [
    "### 3.1 Use the built-in function `type` to find the type of a value\n",
    "\n",
    "* Use the built-in function `type` to find out the type of a value or variable.\n"
   ]
  },
  {
   "cell_type": "code",
   "execution_count": null,
   "metadata": {},
   "outputs": [],
   "source": [
    "print(type(52))"
   ]
  },
  {
   "cell_type": "code",
   "execution_count": null,
   "metadata": {},
   "outputs": [],
   "source": [
    "fitness = 'average'\n",
    "print(type(fitness))"
   ]
  },
  {
   "cell_type": "markdown",
   "metadata": {},
   "source": [
    "### 3.2 Types control what operations (or methods) can be performed on a given value\n",
    "\n",
    "* A value's type determines what the program can do to it."
   ]
  },
  {
   "cell_type": "code",
   "execution_count": null,
   "metadata": {},
   "outputs": [],
   "source": [
    "print(5 - 3)"
   ]
  },
  {
   "cell_type": "code",
   "execution_count": null,
   "metadata": {},
   "outputs": [],
   "source": [
    "print('hello' - 'h')"
   ]
  },
  {
   "cell_type": "markdown",
   "metadata": {},
   "source": [
    "While subtraction doesn't work with strings, addition does...   "
   ]
  },
  {
   "cell_type": "code",
   "execution_count": null,
   "metadata": {},
   "outputs": [],
   "source": [
    "# Note the quotes around the 5, making it a string vs an integer\n",
    "\n",
    "type('5')"
   ]
  },
  {
   "cell_type": "code",
   "execution_count": null,
   "metadata": {},
   "outputs": [],
   "source": [
    "# Try string \"addition\" (concatenation)\n",
    "\n",
    "'5' + '7'"
   ]
  },
  {
   "cell_type": "markdown",
   "metadata": {},
   "source": [
    "Note the quotes around the output again, letting you know that Python is treating the value as a `str` type.\n",
    "\n",
    "Multiplying a character string by an integer *N* creates a new string that consists of that character string repeated *N* times. (Interesting behavior!)\n",
    "    * Since multiplication is repeated addition.\n",
    "\n",
    "Every good soccer announcer should learn this one: \n",
    "\n",
    "<img src='images/dog-goal.gif' alt='Goooooalllll dog gif' width=200 align='left'>\n"
   ]
  },
  {
   "cell_type": "code",
   "execution_count": null,
   "metadata": {},
   "outputs": [],
   "source": [
    "# Note the addition of the sep='' to override the default of adding a blank space between the parts\n",
    "\n",
    "print('G', 'o' * 20, 'a', 'l' * 10, '!', sep = '')"
   ]
  },
  {
   "cell_type": "markdown",
   "metadata": {},
   "source": [
    "### 3.3 Type conversion\n",
    "\n",
    "Python can (sometimes) convert types, allowing us to change how values are interpreted. For example, we can convert the string `'5'` to the integer `5`:"
   ]
  },
  {
   "cell_type": "code",
   "execution_count": null,
   "metadata": {},
   "outputs": [],
   "source": [
    "int('5') + int('7')"
   ]
  },
  {
   "cell_type": "markdown",
   "metadata": {},
   "source": [
    "But we need to be a bit careful at times and not all conversions are possible."
   ]
  },
  {
   "cell_type": "code",
   "execution_count": null,
   "metadata": {},
   "outputs": [],
   "source": [
    "# Before running this cell, predict what you expect the answer to be\n",
    "\n",
    "float(5.9) + 2.0"
   ]
  },
  {
   "cell_type": "code",
   "execution_count": null,
   "metadata": {},
   "outputs": [],
   "source": [
    "# This will give an error. Why?\n",
    "\n",
    "int('two')"
   ]
  },
  {
   "cell_type": "code",
   "execution_count": null,
   "metadata": {},
   "outputs": [],
   "source": [
    "# Need to make sure types match (this also produces an error)\n",
    "\n",
    "print(1 + '2')"
   ]
  },
  {
   "cell_type": "markdown",
   "metadata": {},
   "source": [
    "### 3.4 Strings have a length (but numbers don't)\n",
    "\n",
    "* The built-in function `len` counts the number of characters in a string."
   ]
  },
  {
   "cell_type": "code",
   "execution_count": null,
   "metadata": {},
   "outputs": [],
   "source": [
    "full_name = 'Sophia Thornton'\n",
    "print(len(full_name))"
   ]
  },
  {
   "cell_type": "markdown",
   "metadata": {},
   "source": [
    "* But numbers don't have a length (not even zero)."
   ]
  },
  {
   "cell_type": "code",
   "execution_count": null,
   "metadata": {},
   "outputs": [],
   "source": [
    "print(len(52))"
   ]
  },
  {
   "cell_type": "code",
   "execution_count": 30,
   "metadata": {},
   "outputs": [],
   "source": [
    "temp = 4 // 2"
   ]
  },
  {
   "cell_type": "code",
   "execution_count": null,
   "metadata": {},
   "outputs": [],
   "source": [
    "type(temp)"
   ]
  },
  {
   "cell_type": "markdown",
   "metadata": {},
   "source": [
    "### 3.5 Can mix integers and floats freely in operations\n",
    "\n",
    "* Integers and floating-point numbers can be mixed in arithmetic.\n",
    "    * Python 3 automatically converts integers to floats as needed. (Integer division in Python 2 will return an integer, the *floor* of the division.)"
   ]
  },
  {
   "cell_type": "code",
   "execution_count": null,
   "metadata": {},
   "outputs": [],
   "source": [
    "print(f'half is:  {1 / 2.0}')\n",
    "print(f'three squared is: {3.0 ** 2}')"
   ]
  },
  {
   "cell_type": "markdown",
   "metadata": {},
   "source": [
    "***\n",
    "\n",
    "## Bonus Questions"
   ]
  },
  {
   "cell_type": "markdown",
   "metadata": {},
   "source": [
    "#### Q1: Fractions"
   ]
  },
  {
   "cell_type": "markdown",
   "metadata": {},
   "source": [
    "What type of value is 3.4? How can you find it?"
   ]
  },
  {
   "cell_type": "markdown",
   "metadata": {},
   "source": [
    "**Solution**\n",
    "\n",
    "Click on the '...' below to show the solution."
   ]
  },
  {
   "cell_type": "code",
   "execution_count": null,
   "metadata": {
    "jupyter": {
     "source_hidden": true
    },
    "tags": []
   },
   "outputs": [],
   "source": [
    "# It is a floating-point number (often abbreviated \"float\").\n",
    "\n",
    "print(type(3.4))\n"
   ]
  },
  {
   "cell_type": "markdown",
   "metadata": {},
   "source": [
    "#### Q2: Automatic Type Conversion"
   ]
  },
  {
   "cell_type": "markdown",
   "metadata": {},
   "source": [
    "What type of value is 3.25 + 4?"
   ]
  },
  {
   "cell_type": "markdown",
   "metadata": {},
   "source": [
    "**Solution**\n",
    "\n",
    "Click on the '...' below to show the solution."
   ]
  },
  {
   "cell_type": "code",
   "execution_count": null,
   "metadata": {
    "jupyter": {
     "source_hidden": true
    }
   },
   "outputs": [],
   "source": [
    "# It is a float. Integers are automatically converted to floats as necessary.\n",
    "\n",
    "result = 3.25 + 4\n",
    "print(result, 'is', type(result))"
   ]
  },
  {
   "cell_type": "markdown",
   "metadata": {},
   "source": [
    "#### Q3: Choose a type"
   ]
  },
  {
   "cell_type": "markdown",
   "metadata": {},
   "source": [
    "What type of (integer, floating point number, or character string) would you use to represent each of the following? Try to come up with more than one good answer for each problem. For example, in #1, when would counting days wioth a floating point variable make more senes than using an integer?"
   ]
  },
  {
   "cell_type": "markdown",
   "metadata": {},
   "source": [
    "1. Number of days since the start of the year\n",
    "2. Time ealpsed form the start of the year until now in days\n",
    "3. Serial number of a piece of lab equipment\n",
    "4. A lab specimen's age\n",
    "5. Current population of a city\n",
    "6. Average Population of a city over time"
   ]
  },
  {
   "cell_type": "markdown",
   "metadata": {
    "tags": []
   },
   "source": [
    "**Solution**\n",
    "\n",
    "Click on the '...' below to show the solution."
   ]
  },
  {
   "cell_type": "code",
   "execution_count": null,
   "metadata": {
    "jupyter": {
     "source_hidden": true
    }
   },
   "outputs": [],
   "source": [
    "# 1. Integer, since the number of days would lie between 1 and 365.\n",
    "# 2. Floating point, since the fractional days are required.\n",
    "# 3. Character string if serial number contains letters and numbers, otherwise \n",
    "#    integer if the serial number consists of only numerals\n",
    "# 4. This will vary! How do you define a specimen's age? Whole days since \n",
    "#    collection (integer) data and time (string)\n",
    "# 5. Choose floating point to represent population as large aggregates \n",
    "#    (eg. millions), or integer to preresent population in unties of individuals.\n",
    "# 6. Floating point number, since an average is likely to have a fractional part."
   ]
  },
  {
   "cell_type": "markdown",
   "metadata": {},
   "source": [
    "#### Q4: Division Types"
   ]
  },
  {
   "cell_type": "markdown",
   "metadata": {},
   "source": [
    "In Pyhton 3, the `//` operator performs integer(whole-number) floor division, the `/` operator performs floating point division, and the `%` or (modulo) operator calulates and returns the remainder from integer division."
   ]
  },
  {
   "cell_type": "code",
   "execution_count": 35,
   "metadata": {},
   "outputs": [
    {
     "name": "stdout",
     "output_type": "stream",
     "text": [
      "5 // 3: 1\n",
      "5 / 3: 1.6666666666666667\n",
      "5 % 3: 2\n"
     ]
    }
   ],
   "source": [
    "print('5 // 3:', 5//3)\n",
    "print('5 / 3:', 5/3)\n",
    "print('5 % 3:', 5%3)"
   ]
  },
  {
   "cell_type": "markdown",
   "metadata": {},
   "source": [
    "However in Python2 (and other langauges), the `/` operator between two integer  types froms a floor (`//`) division. To perform a float division, we have to convert one of the inetgers to float."
   ]
  },
  {
   "cell_type": "code",
   "execution_count": null,
   "metadata": {},
   "outputs": [],
   "source": [
    "print('5 // 3:', 1)\n",
    "print('5 / 3:', 1 )\n",
    "print('5 / float(3):', 1.6666667 )\n",
    "print('float(5) / 3:', 1.6666667 )\n",
    "print('float(5 / 3):', 1.0 )\n",
    "print('5 % 3:', 2)"
   ]
  },
  {
   "cell_type": "markdown",
   "metadata": {},
   "source": [
    "if `num_subjects` is the number of subjects taking part in a study, and `num_per_survey` is the number that can take part in a single survey, write an expression that calulcates the number of surveys needed to reach everyone once."
   ]
  },
  {
   "cell_type": "markdown",
   "metadata": {},
   "source": [
    "**Solution**\n",
    "\n",
    "Click on the '...' below to show the solution."
   ]
  },
  {
   "cell_type": "code",
   "execution_count": null,
   "metadata": {
    "jupyter": {
     "source_hidden": true
    },
    "tags": []
   },
   "outputs": [],
   "source": [
    "# We want the minimum number of surveys that reaches everyone once, which is the \n",
    "# rounded up value of num_subjects / num_per_survey. This is equivalent to \n",
    "# performing an integer division with // and adding 1.\n",
    "\n",
    "num_subjects = 600\n",
    "num_per_survey = 42\n",
    "num_surveys = num_subjects // num_per_survey + 1\n",
    "\n",
    "print(num_subjects, 'subjects,', num_per_survey, 'per survey:', num_surveys)"
   ]
  },
  {
   "cell_type": "markdown",
   "metadata": {},
   "source": [
    "#### Q5: Strings to Numbers"
   ]
  },
  {
   "cell_type": "markdown",
   "metadata": {},
   "source": [
    "Where reasonable, `float()` will convert a string to a floating poeint number, and `int()` will convert a floating point number to an integer."
   ]
  },
  {
   "cell_type": "code",
   "execution_count": null,
   "metadata": {},
   "outputs": [],
   "source": [
    "print(\"string to float:\", float(\"3.4\"))\n",
    "print(\"float to int:\", int(3.4))"
   ]
  },
  {
   "cell_type": "markdown",
   "metadata": {},
   "source": [
    "If the conversion does not make sense, however, an error message will occur"
   ]
  },
  {
   "cell_type": "code",
   "execution_count": null,
   "metadata": {},
   "outputs": [],
   "source": [
    "print(\"string to float:\", float(\"Hello World!\"))"
   ]
  },
  {
   "cell_type": "markdown",
   "metadata": {},
   "source": [
    "Given this information, what do you expect the following program to do?\n",
    "What does it actually do?\n",
    "Why do you think it does that?"
   ]
  },
  {
   "cell_type": "markdown",
   "metadata": {},
   "source": [
    "`print(\"fractional string to int:\", int(\"3.4\"))`"
   ]
  },
  {
   "cell_type": "markdown",
   "metadata": {},
   "source": [
    "**Solution**\n",
    "\n",
    "Click on the '...' below to show the solution."
   ]
  },
  {
   "cell_type": "code",
   "execution_count": null,
   "metadata": {
    "jupyter": {
     "source_hidden": true
    }
   },
   "outputs": [],
   "source": [
    "# It would be unreasonable to expect the Python in the command to convert the \n",
    "# string \"3.4\" to 3.4 and an additional type conversion to 3. After all, Python  \n",
    "# performs a lot of other magic - isn't that part of its charm?\n",
    "#\n",
    "# However, Python throws an error. Why? To be consistent, possibly. If you ask \n",
    "# Python to perform two consecutive typecasts, you must convert it explicitly \n",
    "# in code, as in line 2 below.\n",
    "\n",
    "int(\"3.4\")\n",
    "int(float(\"3.4\"))"
   ]
  },
  {
   "cell_type": "markdown",
   "metadata": {},
   "source": [
    "#### Q6: Arithmetic with Different Types"
   ]
  },
  {
   "cell_type": "markdown",
   "metadata": {},
   "source": [
    "Which of the following will print 2.0? Note: there may be more than one right answer."
   ]
  },
  {
   "cell_type": "code",
   "execution_count": null,
   "metadata": {},
   "outputs": [],
   "source": [
    "first = 1.0\n",
    "second = \"1\"\n",
    "third = \"1.1\""
   ]
  },
  {
   "cell_type": "markdown",
   "metadata": {},
   "source": [
    "1. `first + float(second)`\n",
    "2. `float(second) + float(third)`\n",
    "3. `first + int(third)`\n",
    "4. `first + int(float(third))`\n",
    "5. `int(first) + int(float(third))`\n",
    "6. `2.0 * second`"
   ]
  },
  {
   "cell_type": "markdown",
   "metadata": {},
   "source": [
    "**Solution**\n",
    "\n",
    "Click on the '...' below to show the solution."
   ]
  },
  {
   "cell_type": "code",
   "execution_count": null,
   "metadata": {
    "jupyter": {
     "source_hidden": true
    }
   },
   "outputs": [],
   "source": [
    "# Answer 1 and 4."
   ]
  }
 ],
 "metadata": {
  "interpreter": {
   "hash": "11938c6bc6919ae2720b4d5011047913343b08a43b18698fd82dedb0d4417594"
  },
  "kernelspec": {
   "display_name": "UFRC Python-3.8",
   "language": "python",
   "name": "python3-3.8-ufrc"
  },
  "language_info": {
   "codemirror_mode": {
    "name": "ipython",
    "version": 3
   },
   "file_extension": ".py",
   "mimetype": "text/x-python",
   "name": "python",
   "nbconvert_exporter": "python",
   "pygments_lexer": "ipython3",
   "version": "3.8.5"
  }
 },
 "nbformat": 4,
 "nbformat_minor": 4
}
