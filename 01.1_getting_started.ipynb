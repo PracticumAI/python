{
 "cells": [
  {
   "cell_type": "markdown",
   "metadata": {},
   "source": [
    "![Practicum AI Logo image](https://github.com/PracticumAI/practicumai.github.io/blob/main/images/logo/PracticumAI_logo_250x50.png?raw=true) <img src='https://github.com/PracticumAI/practicumai.github.io/blob/main/images/icons/practicumai_python.png?raw=true' align='right' width=50>\n",
    "\n",
    "# *Practicum AI Python*: Getting Started - Part 1\n",
    "\n",
    "Welcome! This notebook will get you started with learning the basics of Python.\n",
    "\n",
    "This exercise is adapted from Bird et al. (2019) <i>The Python Workshop</i> from <a href=\"https://www.packtpub.com/product/the-python-workshop/9781839218859\">Packt Publishers</a> and the <a href=\"https://github.com/swcarpentry/python-novice-gapminder\">Software Carpentries</a>.\n",
    "\n",
    "***"
   ]
  },
  {
   "cell_type": "markdown",
   "metadata": {},
   "source": [
    "## 1. Variables\n",
    "\n",
    "* Variables are names for values.  Or, more precisely, they are named memory locations.\n",
    "* In Python the `=` symbol assigns the value on the right to the name on the left.\n",
    "* The variable is created when a value is assigned to it.\n",
    "\n",
    "Here, Python assigns an integer (whole number) to the variable `age` and a string (text) to the variable `first_name`."
   ]
  },
  {
   "cell_type": "code",
   "execution_count": 1,
   "metadata": {},
   "outputs": [],
   "source": [
    "age = 42\n",
    "first_name = 'Ahmed'"
   ]
  },
  {
   "cell_type": "markdown",
   "metadata": {},
   "source": [
    "We will return to naming variables later in this notebook, but for now remember that variable names:\n",
    "\n",
    "* can contain **only** letters, digits and underscores (\"`_`\")\n",
    "* cannot start with a digit\n",
    "* Should be meaningful, describing the data that they hold"
   ]
  },
  {
   "cell_type": "markdown",
   "metadata": {},
   "source": [
    "## 2. Use `print` to display text and variable values\n",
    "\n",
    "* Python has a built-in function called `print` that prints information to the screen.\n",
    "* Call the function (i.e., tell Python to run it) by using its name.\n",
    "* Provide ***arguments***, or values, to the function (i.e., the things to print) in parentheses.\n",
    "* To add a string to the printout, wrap the string in single or double quotes."
   ]
  },
  {
   "cell_type": "code",
   "execution_count": null,
   "metadata": {},
   "outputs": [],
   "source": [
    "print('Hello world!')"
   ]
  },
  {
   "cell_type": "code",
   "execution_count": null,
   "metadata": {},
   "outputs": [],
   "source": [
    "print(first_name, 'is', age, 'years old')"
   ]
  },
  {
   "cell_type": "code",
   "execution_count": null,
   "metadata": {},
   "outputs": [],
   "source": [
    "# Jupyter notebooks do not require print if you just want the\n",
    "# the last item in the code block, you can just type the variable name.\n",
    "first_name"
   ]
  },
  {
   "cell_type": "markdown",
   "metadata": {},
   "source": [
    "* `print` automatically puts a single space between items to separate them.\n",
    "* `print` also adds a new line character by default (wraps around to a new line at the end)."
   ]
  },
  {
   "cell_type": "markdown",
   "metadata": {},
   "source": [
    "## 3. Variables must be created before they are used\n",
    "\n",
    "* If a variable doesn't exist yet, or the variable name has been mis-spelled, Python reports an error.\n",
    "    * Unlike some languages, which \"guess\" a default value."
   ]
  },
  {
   "cell_type": "code",
   "execution_count": null,
   "metadata": {},
   "outputs": [],
   "source": [
    "print(last_name)"
   ]
  },
  {
   "cell_type": "markdown",
   "metadata": {},
   "source": [
    "<div style=\"padding: 10px;margin-bottom: 20px;border: thin solid #30335D;border-left-width: 10px;background-color: #fff\">\n",
    "<p><strong>Note:</strong> We expect an error above!</p>\n",
    "You will undoubtedly make mistakes! You will see lots of error messages! Don't worry! We all get them. The trick is to try and figure out how to fix them when we get an error. We will look at error messages in more detail later, but one helpful practice is to look at the last line of the error--sometimes that requires scrolling through a lot of red! \n",
    "</div>\n",
    "\n",
    "In this case, the last ling of the error message is:\n",
    "```python\n",
    "NameError: name 'last_name' is not defined\n",
    "```\n",
    "So, we see we have a `NameError` and the explanation is that `last_name` is not defined. Hopefully that reminds us that we haven't created a last_name variable."
   ]
  },
  {
   "cell_type": "markdown",
   "metadata": {},
   "source": [
    "### 3.1 Variables Persist Between Cells\n",
    "\n",
    "Be aware that it is the **order of execution** of cells that is important in a Jupyter Notebook, not the order in which they appear. Python will remember **all** the code that was run previously, including any variables you have defined, irrespective of the order in the notebook. Therefore if you define variables lower down the notebook and then (re)run cells further up, those defined further down will still be present. As an example, create 2 cells with the following content, in this order:"
   ]
  },
  {
   "cell_type": "code",
   "execution_count": null,
   "metadata": {},
   "outputs": [],
   "source": [
    "# Cell 1\n",
    "print (myval)"
   ]
  },
  {
   "cell_type": "code",
   "execution_count": 11,
   "metadata": {},
   "outputs": [],
   "source": [
    "# Cell 2\n",
    "myval = 1"
   ]
  },
  {
   "cell_type": "markdown",
   "metadata": {},
   "source": [
    "If you execute this in order, the first cell will give an error. However, if you run the first cell after the second cell it will print out 1. To prevent confusion, it can be helpful to use the `Kernel -> Restart & Run All` option which clears the interpreter and runs everything from a clean slate going top to bottom."
   ]
  },
  {
   "cell_type": "markdown",
   "metadata": {},
   "source": [
    "### 3.2 Variables can be used in calculations.\n",
    "\n",
    "* We can use variables in calculations just as if they were values.\n"
   ]
  },
  {
   "cell_type": "code",
   "execution_count": null,
   "metadata": {},
   "outputs": [],
   "source": [
    "age = 40\n",
    "age_plus = age + 3\n",
    "print('Age in three years:', age_plus)"
   ]
  },
  {
   "cell_type": "markdown",
   "metadata": {},
   "source": [
    "### 3.3 Assigning Variables\n",
    "\n",
    "One important thing to note is that if you want to keep a value for future reference, you need to assign it to a variable. Otherwise, the value disappears into nothingness...\n",
    "\n",
    "For example, if you run each of these cells, only the results of the second one can be recalled after the cell is executed--the results of the 1st are lost..."
   ]
  },
  {
   "cell_type": "code",
   "execution_count": null,
   "metadata": {
    "tags": []
   },
   "outputs": [],
   "source": [
    "z = 3\n",
    "z + 0.14"
   ]
  },
  {
   "cell_type": "code",
   "execution_count": 15,
   "metadata": {},
   "outputs": [],
   "source": [
    "pi = z + 0.14"
   ]
  },
  {
   "cell_type": "markdown",
   "metadata": {},
   "source": [
    "## 4. Order of Operations\n",
    "\n",
    "Remember the acronym PEMDAS from math class? Python follows the same order, evaluating items in the order: **p**arentheses, **e**xponentiation, **m**ultiplication, **d**ivision, **a**ddition, and **s**ubtraction.\n",
    "\n",
    "![GIF with PEMDAS acronym explanation: Parentheses, explonents, multiply, divide, add, subtract](images/pemdas.gif)\n",
    "\n",
    "Parentheses are helpful in complex expressions and can be used for clarity, even if not technically required. This aligns with the overall philosophy of Python, that code should be written for clarity of reading. There's a common saying:\n",
    "\n",
    "> Code is written once but read many times.\n",
    "\n",
    "Write Python code to calculate the following:\n",
    "\n",
    "**4.1.** Subtract 5 to the 3rd power, which is $5^3$ and written in code as `5**3`, from 100 and divide the result by 5 (answer should be: -5.0):"
   ]
  },
  {
   "cell_type": "code",
   "execution_count": null,
   "metadata": {},
   "outputs": [],
   "source": [
    "# Add your code here\n"
   ]
  },
  {
   "cell_type": "markdown",
   "metadata": {},
   "source": [
    "**4.2.** Divide 15 by 4 and add 6 to it (answer should be: 9.75)\n",
    "\n",
    "   <div style=\"padding: 10px;margin-bottom: 20px;border: thin solid #30335D;border-left-width: 10px;background-color: #fff\">\n",
    "   <p><strong>Note:</strong> In older versions of Python (2.x), the division of two integers (whole numbers) would results in an integer. So, the division of 15/4 would yield 3. Since Python 3.0, this has changed and the result will now be the floating point number 3.75. See below for explicitly using integer division.</p>\n",
    "   </div>"
   ]
  },
  {
   "cell_type": "code",
   "execution_count": null,
   "metadata": {},
   "outputs": [],
   "source": [
    "# Add your code here\n"
   ]
  },
  {
   "cell_type": "markdown",
   "metadata": {},
   "source": [
    "**4.3.** Add 2 squared to the integer division of 25 and 4. Note that the symbol for integer division is '`//`' (Answer should be 10)."
   ]
  },
  {
   "cell_type": "code",
   "execution_count": null,
   "metadata": {},
   "outputs": [],
   "source": [
    "# Add your code here\n"
   ]
  },
  {
   "cell_type": "markdown",
   "metadata": {},
   "source": [
    "## 5. Integer & Float Types\n",
    "\n",
    "Python has many data types, or ways of storing data in variables. Since each type has different properties and methods that can be used on the type of data, it is important to keep track of what type is being used for each variable. Often errors in code arise when data are the wrong type.\n",
    "\n",
    "Python has a method to determine the type of a variable, the `type()` method.\n",
    "\n",
    "**5.1.** Let's start by comparing the type of 6 and 6.0: in the cells below, try the code `type(6)` and `type(6.0)`. You should get `int` and `float` respectively for integer and floating point number."
   ]
  },
  {
   "cell_type": "code",
   "execution_count": null,
   "metadata": {},
   "outputs": [],
   "source": [
    "# Add your code here\n"
   ]
  },
  {
   "cell_type": "code",
   "execution_count": null,
   "metadata": {},
   "outputs": [],
   "source": [
    "# Add your code here\n"
   ]
  },
  {
   "cell_type": "markdown",
   "metadata": {},
   "source": [
    "**5.2.** Now let's assign a value to a variable and get its type. Try the code:\n",
    "\n",
    "```python\n",
    "x = 3.14\n",
    "type(x)\n",
    "```"
   ]
  },
  {
   "cell_type": "code",
   "execution_count": null,
   "metadata": {},
   "outputs": [],
   "source": [
    "# Add your code here\n"
   ]
  },
  {
   "cell_type": "markdown",
   "metadata": {},
   "source": [
    "**5.3.** We can often get Python to convert the type of a variable. Let's change `x` to an `int` and assign it to `y`.\n",
    "```python\n",
    "y = int(x)\n",
    "type(y)\n",
    "```"
   ]
  },
  {
   "cell_type": "code",
   "execution_count": null,
   "metadata": {},
   "outputs": [],
   "source": [
    "# Add your code here\n"
   ]
  },
  {
   "cell_type": "markdown",
   "metadata": {},
   "source": [
    "**5.4.** Conversely, we can convert an `int` to a float\n",
    "```python\n",
    "z = float(y)\n",
    "print(z)\n",
    "type(z)\n",
    "   ```\n",
    "   Note the `.0` added to the end to make the integer `3` into the float `3.0`."
   ]
  },
  {
   "cell_type": "code",
   "execution_count": null,
   "metadata": {},
   "outputs": [],
   "source": [
    "# Add your code here\n"
   ]
  },
  {
   "cell_type": "markdown",
   "metadata": {},
   "source": [
    "## 6. Variable Naming\n",
    "\n",
    "### 6.1 Python is case-sensitive\n",
    "\n",
    "* Python treats upper- and lower-case letters as different, so `Name` and `name` are different variables.\n",
    "* We will follow the convention of using lower-case letters for variable names.\n",
    "\n",
    "### 6.2 Use meaningful variable names\n",
    "\n",
    "* Python doesn't care what you call variables as long as they obey the rules (alphanumeric characters and the underscore)."
   ]
  },
  {
   "cell_type": "code",
   "execution_count": null,
   "metadata": {},
   "outputs": [],
   "source": [
    "flabadab = 42\n",
    "ewr_422_yY = 'Ahmed'\n",
    "print(ewr_422_yY, 'is', flabadab, 'years old')"
   ]
  },
  {
   "cell_type": "markdown",
   "metadata": {},
   "source": [
    "\n",
    "* Use meaningful variable names to help other people understand what the program does.\n",
    "* **The most important \"other person\" is your future self.**\n",
    "\n",
    "\n",
    "When naming variables, there are a few important rules:\n",
    "\n",
    "  * Some words are reserved for Python and cannot be used for variable names. The cell below will print a list of those words. These words have special meanings.\n",
    "  * Python variable names cannot start with a digit\n",
    "  * Python variable names cannot include special characters other than underscore(\"_\").\n",
    "\n",
    "<div style=\"padding: 10px;margin-bottom: 20px;border: thin solid #E5C250;border-left-width: 10px;background-color: #fff\">\n",
    "   <p><strong> Tip:</strong> See the PEP8 Style Guide for coding recommendations: <a href=https://www.python.org/dev/peps/pep-0008/>https://www.python.org/dev/peps/pep-0008/</a></p>\n",
    "   </div>\n",
    "\n",
    "While not written rules, it is best practice to:\n",
    "* Have variable names reflect what they store: `time` is far better than `t` or `x`.\n",
    "* Use plural names for variables that hold multiple items and single names for single items: `records` for a list of all records and `record` for a single record from the list.\n",
    "* Be consistent in using `camelCase` or `underscores_between_words`. PEP8 prefers underscores.\n",
    "*  Variable names that start with underscores, like `__alistairs_real_age`, have a special meaning so we won't do that until we understand the convention."
   ]
  },
  {
   "cell_type": "code",
   "execution_count": 19,
   "metadata": {},
   "outputs": [
    {
     "name": "stdout",
     "output_type": "stream",
     "text": [
      "['False', 'None', 'True', 'and', 'as', 'assert', 'async', 'await', 'break', 'class', 'continue', 'def', 'del', 'elif', 'else', 'except', 'finally', 'for', 'from', 'global', 'if', 'import', 'in', 'is', 'lambda', 'nonlocal', 'not', 'or', 'pass', 'raise', 'return', 'try', 'while', 'with', 'yield']\n"
     ]
    }
   ],
   "source": [
    "import keyword\n",
    "print(keyword.kwlist)"
   ]
  },
  {
   "cell_type": "markdown",
   "metadata": {},
   "source": [
    "To see what happens, let's create a variable named 1st_name and assign it your name: e.g.\n",
    "\n",
    "  ```python\n",
    "  1st_name = 'Matt'\n",
    "  ```\n",
    "  <div style=\"padding: 10px;margin-bottom: 20px;border: thin solid #30335D;border-left-width: 10px;background-color: #fff\">\n",
    "   <p><strong>Note:</strong> You will get an error. Read he message and try to interpret it. Notice that the \"^\" (caret) points to where Python thinks the error is. That is close, but not exactly where the issue is. Sometimes the error can be a line or two above the caret--don't assume it is pointing to the code that caused the error. </p>\n",
    "  </div>"
   ]
  },
  {
   "cell_type": "code",
   "execution_count": 21,
   "metadata": {},
   "outputs": [],
   "source": [
    "# Add your code here from above\n"
   ]
  },
  {
   "cell_type": "markdown",
   "metadata": {},
   "source": [
    "Can you fix the variable name to one that works?"
   ]
  },
  {
   "cell_type": "code",
   "execution_count": null,
   "metadata": {},
   "outputs": [],
   "source": [
    "# Add your code here\n"
   ]
  },
  {
   "cell_type": "markdown",
   "metadata": {},
   "source": [
    "As another example of variables that are not allowed, run the following cell, then rename the variable in a way that removes the error."
   ]
  },
  {
   "cell_type": "code",
   "execution_count": null,
   "metadata": {},
   "outputs": [],
   "source": [
    "# Run this cell, observe the error, and fix it by changing the variable name\n",
    "my_$ = 100"
   ]
  },
  {
   "cell_type": "markdown",
   "metadata": {},
   "source": [
    "## 7. Use comments to add documentation to programs\n",
    "\n",
    "\n",
    "Striving for self-documenting code--code that uses clear variable names and logical structure and organization--is always a good goal, but sometimes additional comments are needed.\n",
    "\n",
    "Any text on a line following the '`#`' symbol is considered a comment and is ignored by the Python interpreter. Multi-line comments can be made using three quotes (either single or double) at the start and end of the comment.\n",
    "\n",
    "As noted above, code is written once and read many times--*strive to make your code self-documenting and easy to read*. Clear variable names, consistent structure and spacing, and logical flow all contribute to readability.\n",
    "\n",
    "Another common saying is that **all comments are lies**. While comments can provide a clue into what the coder wanted the code to do, it is the code that is executed, not the comments. When looking for errors, make sure the code matches any comments."
   ]
  },
  {
   "cell_type": "code",
   "execution_count": null,
   "metadata": {},
   "outputs": [],
   "source": [
    "# This sentence isn't executed by Python.\n",
    "adjustment = 0.5   # Neither is this - anything after '#' is ignored.\n",
    "\n",
    "\"\"\"\n",
    "Multiline strings can also be used\n",
    "This allows text to span over more than\n",
    "one line.\n",
    "Triple quotes at the start and end of the \n",
    "multiline string work.\n",
    "\"\"\""
   ]
  },
  {
   "cell_type": "markdown",
   "metadata": {},
   "source": [
    "## 8. String Variables\n",
    "\n",
    "In this section, we're going to highlight some of the unique features of string variables.  Strings are comprised of characters (text) linked together.  And because string processing is at the center of natural language processing, and has similarities to working with lists and arrays, it's worth spending some time on this topic. \n",
    "\n",
    "### 8.1 String Indexing\n",
    "\n",
    "The first thing to know about stings (and lists) in Python is that they are **zero-indexed**, meaning that numbering starts at 0.The first element in a string or list is the 0<sup>th</sup> element."
   ]
  },
  {
   "cell_type": "code",
   "execution_count": 3,
   "metadata": {},
   "outputs": [
    {
     "name": "stdout",
     "output_type": "stream",
     "text": [
      "Index: 0 --> value: b\n",
      "Index: 1 --> value: a\n",
      "Index: 2 --> value: n\n",
      "Index: 3 --> value: a\n",
      "Index: 4 --> value: n\n",
      "Index: 5 --> value: a\n"
     ]
    }
   ],
   "source": [
    "# Traverse a string with a loop: while version\n",
    "fruit = 'banana'\n",
    "index = 0\n",
    "\n",
    "while index < len(fruit):\n",
    "    letter = fruit[index]\n",
    "    print(f'Index: {index} --> value: {letter}')\n",
    "    index = index + 1"
   ]
  },
  {
   "cell_type": "code",
   "execution_count": 24,
   "metadata": {},
   "outputs": [
    {
     "name": "stdout",
     "output_type": "stream",
     "text": [
      "b\n",
      "a\n",
      "n\n",
      "a\n",
      "n\n",
      "a\n"
     ]
    }
   ],
   "source": [
    "# Or using a for loop\n",
    "fruit = 'banana'\n",
    "\n",
    "for char in fruit:\n",
    "    letter = char\n",
    "    print(letter)\n"
   ]
  },
  {
   "cell_type": "markdown",
   "metadata": {},
   "source": [
    "### 8.2 Use an index to get a single character from a string\n",
    "\n",
    "* The characters (individual letters, numbers, and so on) in a string are ordered. For example, the string 'AB' is not the same as 'BA'. Because of this ordering, we can treat the string as a list of characters.\n",
    "* Each position in the string (first, second, etc.) is given a number. This number is called an index or sometimes a subscript.\n",
    "* Indices are numbered from 0.\n",
    "* Use the position's index in square brackets to get the character at that position."
   ]
  },
  {
   "cell_type": "code",
   "execution_count": 26,
   "metadata": {},
   "outputs": [
    {
     "name": "stdout",
     "output_type": "stream",
     "text": [
      "i\n"
     ]
    }
   ],
   "source": [
    "atom_name = 'helium'\n",
    "print(atom_name[3])"
   ]
  },
  {
   "cell_type": "markdown",
   "metadata": {},
   "source": [
    "### 8.3 Use a slice to get a substring\n",
    "\n",
    "* A part of a string is called a substring. A substring can be as short as a single character.\n",
    "* An item in a list is called an element. Whenever we treat a string as if it were a list, the string's elements are its individual characters.\n",
    "* A slice is a part of a string (or, more generally, any list-like thing).\n",
    "* We take a slice by using `[start:stop]`, where `start` is replaced with the index of the first element we want and `stop` is replaced with the index of the element just after the last element we want.\n",
    "* Mathematically, you might say that a slice selects `[start:stop)`.\n",
    "* The difference between `stop` and `start` is the slice's length.\n",
    "* Taking a slice does not change the contents of the original string. Instead, the slice is a copy of part of the original string.\n",
    "\n",
    "Consider this image of a string:\n",
    "\n",
    "![Python lists image](./images/python_lists.png)\n",
    "\n",
    "As pictured here, you can see that the small numbers on the tops of the green boxes are the indexes and the slice is between indexes. For example:\n"
   ]
  },
  {
   "cell_type": "code",
   "execution_count": 5,
   "metadata": {},
   "outputs": [
    {
     "name": "stdout",
     "output_type": "stream",
     "text": [
      "1: b\n",
      "2: an\n",
      "3: ana\n",
      "4: ba\n",
      "5: an\n",
      "6: a\n"
     ]
    }
   ],
   "source": [
    "my_string=\"banana\"\n",
    "\n",
    "print(f\"1: {my_string[0]}\")\n",
    "print(f\"2: {my_string[1:3]}\")\n",
    "print(f\"3: {my_string[3:]}\")\n",
    "print(f\"4: {my_string[:2]}\")\n",
    "print(f\"5: {my_string[-3:-1]}\")\n",
    "print(f\"6: {my_string[-1]}\")"
   ]
  },
  {
   "cell_type": "markdown",
   "metadata": {},
   "source": [
    "### 8.4 Strings are immutable\n",
    "\n",
    "Strings and some other variable types are immutable--they cannot be changed.\n",
    "\n",
    "You can't change a string, but you can make a new variable with the new string, though it's usually easier to simply re-assign the variable:"
   ]
  },
  {
   "cell_type": "code",
   "execution_count": 28,
   "metadata": {},
   "outputs": [],
   "source": [
    "greeting = 'Hello, world!'"
   ]
  },
  {
   "cell_type": "code",
   "execution_count": null,
   "metadata": {},
   "outputs": [],
   "source": [
    "# Let's say we want to change the 'H' in the greeting to a 'J'\n",
    "# First, we need to remember that the 'H' is the first letter, but that's index 0!\n",
    "# Try this...it won't work!\n",
    "\n",
    "greeting[0] = 'J'"
   ]
  },
  {
   "cell_type": "markdown",
   "metadata": {},
   "source": [
    "Here's a work around... \n",
    "\n",
    "We can replace the current contents of the variable `greeting` by re-assigning it a new value that is the letter 'H' followed by everything from the second letter (index 1) on of the current value of `greeting`."
   ]
  },
  {
   "cell_type": "code",
   "execution_count": 30,
   "metadata": {},
   "outputs": [
    {
     "name": "stdout",
     "output_type": "stream",
     "text": [
      "Jello, world!\n"
     ]
    }
   ],
   "source": [
    "greeting = 'J' + greeting[1:]\n",
    "print(greeting)"
   ]
  },
  {
   "cell_type": "markdown",
   "metadata": {},
   "source": [
    "In the example above, the original string is erased and a completely new string is defined.  The variable name persists, but it now lives in a new memory location."
   ]
  },
  {
   "cell_type": "markdown",
   "metadata": {},
   "source": [
    "### 8.5 Use the built-in function `len` to find the length of a string"
   ]
  },
  {
   "cell_type": "code",
   "execution_count": null,
   "metadata": {},
   "outputs": [],
   "source": [
    "print(len('helium'))"
   ]
  },
  {
   "cell_type": "markdown",
   "metadata": {},
   "source": [
    " <div style=\"padding: 10px;margin-bottom: 20px;border: thin solid #30335D;border-left-width: 10px;background-color: #fff\">\n",
    "   <p><strong>Note:</strong> Notice the two sets of parentheses. Nested functions are evaluated from the inside out, just like in mathematics.</p>\n",
    "  </div>\n"
   ]
  },
  {
   "cell_type": "markdown",
   "metadata": {},
   "source": [
    "### 8.6 Use the built-in function `in` to find a string in another string\n",
    "\n",
    "The built-in function `in` (one of those reserved keywords) allows us to test if one string is contained within another string--or one item is in a list of items when working with lists."
   ]
  },
  {
   "cell_type": "code",
   "execution_count": 32,
   "metadata": {},
   "outputs": [
    {
     "data": {
      "text/plain": [
       "True"
      ]
     },
     "execution_count": 32,
     "metadata": {},
     "output_type": "execute_result"
    }
   ],
   "source": [
    "'a' in 'banana'"
   ]
  },
  {
   "cell_type": "code",
   "execution_count": 33,
   "metadata": {},
   "outputs": [
    {
     "data": {
      "text/plain": [
       "False"
      ]
     },
     "execution_count": 33,
     "metadata": {},
     "output_type": "execute_result"
    }
   ],
   "source": [
    "'z' in 'banana'"
   ]
  },
  {
   "cell_type": "code",
   "execution_count": 34,
   "metadata": {},
   "outputs": [
    {
     "data": {
      "text/plain": [
       "True"
      ]
     },
     "execution_count": 34,
     "metadata": {},
     "output_type": "execute_result"
    }
   ],
   "source": [
    "'Gator' in 'Go Gators!'"
   ]
  },
  {
   "cell_type": "code",
   "execution_count": 35,
   "metadata": {},
   "outputs": [
    {
     "data": {
      "text/plain": [
       "False"
      ]
     },
     "execution_count": 35,
     "metadata": {},
     "output_type": "execute_result"
    }
   ],
   "source": [
    "'Seminole' in 'Go Gators!'"
   ]
  },
  {
   "cell_type": "markdown",
   "metadata": {},
   "source": [
    "### 8.7 String Error Syntax\n",
    "\n",
    "This exercise will help you identify errors in strings and fix them. While you can use singe or double quotes for strings, a string must start and end with the same type of quote."
   ]
  },
  {
   "cell_type": "code",
   "execution_count": 7,
   "metadata": {},
   "outputs": [],
   "source": [
    "# This is valid\n",
    "bookstore = 'City Lights'"
   ]
  },
  {
   "cell_type": "code",
   "execution_count": null,
   "metadata": {},
   "outputs": [],
   "source": [
    "# This is not, can you fix it?\n",
    "bookstore = 'City Lights\""
   ]
  },
  {
   "cell_type": "code",
   "execution_count": null,
   "metadata": {},
   "outputs": [],
   "source": [
    "# This also doesn't work, why not? Can you fix it?\n",
    "bookstore = 'Powell's Books'"
   ]
  },
  {
   "cell_type": "markdown",
   "metadata": {},
   "source": [
    "Apostrophes are a common cause of coding errors. Pay attention, especially if using single quotes! \n",
    "\n",
    "While it doesn't matter too much which you use, it helps to be consistent, unless there's a need for the other type."
   ]
  },
  {
   "cell_type": "markdown",
   "metadata": {},
   "source": [
    "\n",
    "***\n",
    "\n",
    "## Bonus Questions"
   ]
  },
  {
   "cell_type": "markdown",
   "metadata": {},
   "source": [
    "#### Q1: Swapping Values "
   ]
  },
  {
   "cell_type": "markdown",
   "metadata": {},
   "source": [
    "Fill the table showing the values of the variables in this program **after** each statement is executed. "
   ]
  },
  {
   "cell_type": "code",
   "execution_count": null,
   "metadata": {},
   "outputs": [],
   "source": [
    "# Command  # Value of x   # Value of y   # Value of swap #\n",
    "x = 1.0    #              #              #               #\n",
    "y = 3.0    #              #              #               #\n",
    "swap = x   #              #              #               #\n",
    "x = y      #              #              #               #\n",
    "y = swap   #              #              #               #"
   ]
  },
  {
   "cell_type": "markdown",
   "metadata": {},
   "source": [
    "**Solution**\n",
    "\n",
    "Click on the '...' below to show the solution."
   ]
  },
  {
   "cell_type": "code",
   "execution_count": null,
   "metadata": {
    "jupyter": {
     "source_hidden": true
    },
    "tags": []
   },
   "outputs": [],
   "source": [
    "# Command  # Value of x   # Value of y   # Value of swap #\n",
    "x = 1.0    # 1.0          # not defined  # not defined   #\n",
    "y = 3.0    # 1.0          # 3.0          # not defined   #\n",
    "swap = x   # 1.0          # 3.0          # 1.0           #\n",
    "x = y      # 3.0          # 3.0          # 1.0           #\n",
    "y = swap   # 3.0          # 1.0          # 1.0           #\n",
    "\n",
    "# These three lines exchange the values in `x` and `y` using the `swap`\n",
    "# Variable for temporary storage. This is a fairly common programming idiom."
   ]
  },
  {
   "cell_type": "markdown",
   "metadata": {},
   "source": [
    "#### Q2: Predicting Values"
   ]
  },
  {
   "cell_type": "markdown",
   "metadata": {},
   "source": [
    "What is the final value of `positon` in the program below? (Try to predict the value without the running the program, then check your prediciton). "
   ]
  },
  {
   "cell_type": "code",
   "execution_count": null,
   "metadata": {},
   "outputs": [],
   "source": [
    "initial = 'left'\n",
    "position = initial\n",
    "initial = 'right'"
   ]
  },
  {
   "cell_type": "markdown",
   "metadata": {},
   "source": [
    "**Solution**\n",
    "\n",
    "Click on the '...' below to show the solution."
   ]
  },
  {
   "cell_type": "code",
   "execution_count": null,
   "metadata": {
    "jupyter": {
     "source_hidden": true
    }
   },
   "outputs": [],
   "source": [
    "# 'left' \n",
    "#\n",
    "# The initial variable is assigned the value 'left'.  In the second line, the \n",
    "# position variable also receives the string value 'left'. In the third line, \n",
    "# the initial variable is given the value of 'right', but the position variable \n",
    "# retains its string value of 'left'"
   ]
  },
  {
   "cell_type": "markdown",
   "metadata": {},
   "source": [
    "#### Q3: Assigning Names"
   ]
  },
  {
   "cell_type": "markdown",
   "metadata": {},
   "source": [
    "If you assign `a = 123`, what happens if you try to get the second digit of `a` vis `a[1]`?"
   ]
  },
  {
   "cell_type": "code",
   "execution_count": null,
   "metadata": {},
   "outputs": [],
   "source": []
  },
  {
   "cell_type": "markdown",
   "metadata": {},
   "source": [
    "**Solution**\n",
    "\n",
    "Click on the '...' below to show the solution."
   ]
  },
  {
   "cell_type": "code",
   "execution_count": null,
   "metadata": {
    "jupyter": {
     "source_hidden": true
    }
   },
   "outputs": [],
   "source": [
    "# Numbers are not stored in the written representation, so they can't be \n",
    "# treated like strings.\n",
    "\n",
    "a = 123\n",
    "print(a[1])\n"
   ]
  },
  {
   "cell_type": "markdown",
   "metadata": {},
   "source": [
    "#### Q4: Choosing a Name"
   ]
  },
  {
   "cell_type": "markdown",
   "metadata": {},
   "source": [
    "Which is a better variable name, `m`, `min`, or `minutes`? Why? Hint: Think about which code you would rather inherit from someone who is leaving the lab: <br> <br>\n",
    "1. `ts = m * 60 + s` <br>\n",
    "2. `tot_sec - min * 60 + sec` <br>\n",
    "3. `total_seconds = minutes * 60 + seconds`<br>\n",
    "    "
   ]
  },
  {
   "cell_type": "markdown",
   "metadata": {},
   "source": [
    "**Solution**\n",
    "\n",
    "Click on the '...' below to show the solution."
   ]
  },
  {
   "cell_type": "code",
   "execution_count": null,
   "metadata": {
    "jupyter": {
     "source_hidden": true
    }
   },
   "outputs": [],
   "source": [
    "# Minutes is better because min might mean something like \"minimum\" \n",
    "# (and actually does in Python, but we haven't seen that yet)."
   ]
  },
  {
   "cell_type": "markdown",
   "metadata": {},
   "source": [
    "#### Q5: Slicing "
   ]
  },
  {
   "cell_type": "markdown",
   "metadata": {},
   "source": [
    "What does the following program finally print?"
   ]
  },
  {
   "cell_type": "code",
   "execution_count": null,
   "metadata": {},
   "outputs": [],
   "source": [
    "atom _name = 'carbon'\n",
    "print('atom_name[1:3] is:', atom_name[1:3])"
   ]
  },
  {
   "cell_type": "markdown",
   "metadata": {},
   "source": [
    "**Solution**\n",
    "\n",
    "Click on the '...' below to show the solution."
   ]
  },
  {
   "cell_type": "code",
   "execution_count": null,
   "metadata": {
    "jupyter": {
     "source_hidden": true
    }
   },
   "outputs": [],
   "source": [
    "# atom_name[1:3] = \"ar\""
   ]
  },
  {
   "cell_type": "markdown",
   "metadata": {},
   "source": [
    "#### Q6: Slicing Concepts"
   ]
  },
  {
   "cell_type": "markdown",
   "metadata": {},
   "source": [
    "1. What does `thing[low:high]` do?\n",
    "2. What does `thing[low:]` without a value after the colon) do?\n",
    "3. What does `thing[:high]` (without a value before the colon) do?\n",
    "4. What does `thing[:]` (just a colon) do?\n",
    "5. What does `thing[number:negative-number]` do?\n",
    "6. What happens when you choose a `high` value which is out of range? (i.e., try `atom_name[0:15]`)"
   ]
  },
  {
   "cell_type": "markdown",
   "metadata": {},
   "source": [
    "**Solution**\n",
    "\n",
    "Click on the '...' below to show the solution."
   ]
  },
  {
   "cell_type": "code",
   "execution_count": null,
   "metadata": {
    "jupyter": {
     "source_hidden": true
    }
   },
   "outputs": [],
   "source": [
    "# 1. thing[low:high] returns a slice from `low` to the value before `high`\n",
    "# 2. thing[low:] returns a slice from `low` to the end of `thing`\n",
    "# 3. thing[:high] returns a slice from the beginning of `thing` to the value \n",
    "#     before `high`\n",
    "# 4. thing[:] returns all of `thing`\n",
    "# 5. thing[number:negative-number] returns a slice from `number` to \n",
    "#    `negative-number` values from the end of `thing`\n",
    "# 6. If a part of the slice is out of range, the operation does not fail. \n",
    "#    `atom_name[0:15]` gives the same result as `atom_name[0:]`."
   ]
  }
 ],
 "metadata": {
  "kernelspec": {
   "display_name": "Python 3 (ipykernel)",
   "language": "python",
   "name": "python3"
  },
  "language_info": {
   "codemirror_mode": {
    "name": "ipython",
    "version": 3
   },
   "file_extension": ".py",
   "mimetype": "text/x-python",
   "name": "python",
   "nbconvert_exporter": "python",
   "pygments_lexer": "ipython3",
   "version": "3.8.1"
  },
  "vscode": {
   "interpreter": {
    "hash": "11938c6bc6919ae2720b4d5011047913343b08a43b18698fd82dedb0d4417594"
   }
  }
 },
 "nbformat": 4,
 "nbformat_minor": 4
}
