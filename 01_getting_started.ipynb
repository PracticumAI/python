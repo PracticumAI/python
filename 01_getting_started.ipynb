{
 "cells": [
  {
   "cell_type": "markdown",
   "metadata": {},
   "source": [
    "![Practicum AI Logo image](https://github.com/PracticumAI/practicumai.github.io/blob/main/images/logo/PracticumAI_logo_250x50.png?raw=true) <img src='https://github.com/PracticumAI/practicumai.github.io/blob/main/images/icons/practicumai_python.png?raw=true' align='right' width=50>\n",
    "\n",
    "# *Practicum AI Python*: Getting Started - Part 1\n",
    "\n",
    "This exercise is adapted from Bird et al. (2019) <i>The Python Workshop</i> from <a href=\"https://www.packtpub.com/product/the-python-workshop/9781839218859\">Packt Publishers</a> and the <a href=\"https://github.com/swcarpentry/python-novice-gapminder\">Software Carpentries</a>.\n",
    "\n",
    "***"
   ]
  },
  {
   "cell_type": "markdown",
   "metadata": {},
   "source": [
    "## 1. Variables\n",
    "\n",
    "* Variables are names for values.  Or, more precisely, they are named memory locations.\n",
    "* In Python the `=` symbol assigns the value on the right to the name on the left.\n",
    "* The variable is created when a value is assigned to it.\n",
    "\n",
    "Here, Python assigns an integer (whole number) to the variable `age` and a string (text) to the variable `first_name`."
   ]
  },
  {
   "cell_type": "code",
   "execution_count": null,
   "metadata": {},
   "outputs": [],
   "source": [
    "age = 42\n",
    "first_name = 'Ahmed'"
   ]
  },
  {
   "cell_type": "markdown",
   "metadata": {},
   "source": [
    "We will return to naming variables later in this notebook, but for now remember that varaible names:\n",
    "* can contain **only** letters, digits and underscores (`_`)\n",
    "* cannot start with a digit\n",
    "* Should be meaningful, describing the data that they hold"
   ]
  },
  {
   "cell_type": "markdown",
   "metadata": {},
   "source": [
    "## 2. Use `print` to display text and variable values"
   ]
  },
  {
   "cell_type": "markdown",
   "metadata": {},
   "source": [
    "* Python has a built-in function called `print` that prints information to the screen.\n",
    "* Call the function (i.e., tell Python to run it) by using its name.\n",
    "* Provide ***arguments***, or values, to the function (i.e., the things to print) in parentheses.\n",
    "* To add a string to the printout, wrap the string in single or double quotes.\n"
   ]
  },
  {
   "cell_type": "code",
   "execution_count": 9,
   "metadata": {},
   "outputs": [
    {
     "name": "stdout",
     "output_type": "stream",
     "text": [
      "Hello world!\n"
     ]
    }
   ],
   "source": [
    "print('Hello world!')"
   ]
  },
  {
   "cell_type": "code",
   "execution_count": 10,
   "metadata": {},
   "outputs": [
    {
     "name": "stdout",
     "output_type": "stream",
     "text": [
      "Ahmed is 43 years old\n"
     ]
    }
   ],
   "source": [
    "print(first_name, 'is', age, 'years old')"
   ]
  },
  {
   "cell_type": "code",
   "execution_count": 11,
   "metadata": {},
   "outputs": [
    {
     "data": {
      "text/plain": [
       "'Ahmed'"
      ]
     },
     "execution_count": 11,
     "metadata": {},
     "output_type": "execute_result"
    }
   ],
   "source": [
    "# Jupyter notebooks do not require print if you just want the\n",
    "# the last item in the code block, you can just type the variable name.\n",
    "first_name"
   ]
  },
  {
   "cell_type": "markdown",
   "metadata": {},
   "source": [
    "* `print` automatically puts a single space between items to separate them.\n",
    "* `print` also adds a new line character by default (wraps around to a new line at the end)."
   ]
  },
  {
   "cell_type": "markdown",
   "metadata": {},
   "source": [
    "## 3.Variables must be created before they are used."
   ]
  },
  {
   "cell_type": "markdown",
   "metadata": {},
   "source": [
    "* If a variable doesn't exist yet, or the variable name has been mis-spelled, Python reports an error.\n",
    "    * Unlike some languages, which \"guess\" a default value."
   ]
  },
  {
   "cell_type": "code",
   "execution_count": 12,
   "metadata": {},
   "outputs": [
    {
     "ename": "NameError",
     "evalue": "name 'last_name' is not defined",
     "output_type": "error",
     "traceback": [
      "\u001b[0;31m---------------------------------------------------------------------------\u001b[0m",
      "\u001b[0;31mNameError\u001b[0m                                 Traceback (most recent call last)",
      "\u001b[0;32m/scratch/local/32002822/ipykernel_5608/2532117691.py\u001b[0m in \u001b[0;36m<module>\u001b[0;34m\u001b[0m\n\u001b[0;32m----> 1\u001b[0;31m \u001b[0mprint\u001b[0m\u001b[0;34m(\u001b[0m\u001b[0mlast_name\u001b[0m\u001b[0;34m)\u001b[0m\u001b[0;34m\u001b[0m\u001b[0;34m\u001b[0m\u001b[0m\n\u001b[0m",
      "\u001b[0;31mNameError\u001b[0m: name 'last_name' is not defined"
     ]
    }
   ],
   "source": [
    "print(last_name)"
   ]
  },
  {
   "cell_type": "markdown",
   "metadata": {},
   "source": [
    "<div style=\"padding: 10px;margin-bottom: 20px;border: thin solid #30335D;border-left-width: 10px;background-color: #fff\">\n",
    "<p><strong>Note:</strong> We expect an error above!</p>\n",
    "You will undoubtedly make mistakes! You will see lots of error messages! Don't worry! We all get them. The trick is to try and figure out how to fix them when we get an error. We will look at error messages in more detail later, but one helpful practice is to look at the last line of the error--sometimes that requires scrolling through a lot of red! \n",
    "</div>\n",
    "\n",
    "In this case, the last ling of the error message is:\n",
    "```python\n",
    "NameError: name 'last_name' is not defined\n",
    "```\n",
    "So, we see we have a `NameError` and the explanation is that `last_name` is not defined. Hopefully that reminds us that we haven't created a last_name variable."
   ]
  },
  {
   "cell_type": "markdown",
   "metadata": {},
   "source": [
    "#### 3.1. Variables Persist Between Cells"
   ]
  },
  {
   "cell_type": "markdown",
   "metadata": {},
   "source": [
    "Be aware that it is the **order of execution** of cells that is important in a Jupyter notebook, not the order in which they appear. Python will remember **all** the code that was run previously, including any variables you have defined, irrespective of the order in the notebook. Therefore if you define variables lower down the notebook and then (re)run cells further up, those defined further down will still be present. As an example, create 2 cells with the following content, in this order:"
   ]
  },
  {
   "cell_type": "code",
   "execution_count": 13,
   "metadata": {},
   "outputs": [
    {
     "name": "stdout",
     "output_type": "stream",
     "text": [
      "1\n"
     ]
    }
   ],
   "source": [
    "print (myval)"
   ]
  },
  {
   "cell_type": "code",
   "execution_count": 14,
   "metadata": {},
   "outputs": [],
   "source": [
    "myval = 1"
   ]
  },
  {
   "cell_type": "markdown",
   "metadata": {},
   "source": [
    "If you execute this in order, the first cell will give an error. However, if you run the first cell after the second cell it will print out 1. To prevent confusion, it can be helpful to use the `Kernel -> Restart & Run All` option which clears the interpreter and runs everything from a clean slate going top to bottom."
   ]
  },
  {
   "cell_type": "markdown",
   "metadata": {},
   "source": [
    "#### 3.2. Variables can be used in calculations.\n",
    "\n",
    "* We can use variables in calculations just as if they were values.\n"
   ]
  },
  {
   "cell_type": "code",
   "execution_count": 15,
   "metadata": {},
   "outputs": [
    {
     "name": "stdout",
     "output_type": "stream",
     "text": [
      "Age in three years: 43\n"
     ]
    }
   ],
   "source": [
    "age = 40\n",
    "age = age + 3\n",
    "print('Age in three years:', age)"
   ]
  },
  {
   "cell_type": "markdown",
   "metadata": {},
   "source": [
    "## Exercise 1: Order of Operations\n",
    "\n",
    "Remember the acronym PEMDAS from math class? Python follows the same order, evaluating items in the order: **p**arentheses first, **e**xponentiation second, **m**ultiplication and **d**ivision third, and **a**ddition and **s**ubtraction fourth.\n",
    "\n",
    "Parentheses are helpful in complex expressions and can be used for clarity, even if not technically required. This aligns with the overall philosophy of Python, that code should be written for clarity of reading. There's a common saying:\n",
    "\n",
    "> Code is written once but read many times.\n",
    "\n",
    "Write Python code to calculate the following:\n",
    "\n",
    "1. Subtract 5 to the 3rd power, which is $5^3$ and written in code as `5**3`, from 100 and divide the result by 5 (answer should be: -5.0):"
   ]
  },
  {
   "cell_type": "code",
   "execution_count": 16,
   "metadata": {},
   "outputs": [],
   "source": [
    "# Add your code here\n"
   ]
  },
  {
   "cell_type": "markdown",
   "metadata": {},
   "source": [
    "2. Add 6 to the remainder of 15 divided by 4 (answer should be: 9.75)\n",
    "\n",
    "   <div style=\"padding: 10px;margin-bottom: 20px;border: thin solid #30335D;border-left-width: 10px;background-color: #fff\">\n",
    "   <p><strong>Note:</strong> In older versions of Python (2.x), the division of two integers (whole numbers) would results in an integer. So, the division of 15/4 would yield 3. Since Python 3.0, this has changed and the result will now be the floating point number 3.75. See below for explicitly using integer division.</p>\n",
    "   </div>"
   ]
  },
  {
   "cell_type": "code",
   "execution_count": 17,
   "metadata": {},
   "outputs": [],
   "source": [
    "# Add your code here\n"
   ]
  },
  {
   "cell_type": "markdown",
   "metadata": {},
   "source": [
    "3. Add 2 squared to the integer division of 25 and 4. Note that the symbol for integer division is '`//`' (Answer should be 10)."
   ]
  },
  {
   "cell_type": "code",
   "execution_count": 18,
   "metadata": {},
   "outputs": [],
   "source": [
    "# Add your code here\n"
   ]
  },
  {
   "cell_type": "markdown",
   "metadata": {},
   "source": [
    "## Exercise 2: Integer & Float Types\n",
    "\n",
    "Python has many data types, or ways of storing data in variables. Since each type has different properties and methods that can be used on the type of data, it is important to keep track of what type is being used for each variable. Often errors in code arise when data are the wrong type.\n",
    "\n",
    "Python has a method to determine the type of a variable, the `type()` method.\n",
    "\n",
    "1. Let's start by comparing the type of 6 and 6.0: in the cells below, try the code `type(6)` and `type(6.0)`. You should get `int` and `float` respectively for integer and floating point number."
   ]
  },
  {
   "cell_type": "code",
   "execution_count": 19,
   "metadata": {},
   "outputs": [],
   "source": [
    "# Add your code here\n"
   ]
  },
  {
   "cell_type": "code",
   "execution_count": 20,
   "metadata": {},
   "outputs": [],
   "source": [
    "# Add your code here\n"
   ]
  },
  {
   "cell_type": "markdown",
   "metadata": {},
   "source": [
    "2. Now let's assign a value to a variable and get its type. Try the code:\n",
    "    ```python\n",
    "    x = 3.14\n",
    "    type(x)\n",
    "    ```"
   ]
  },
  {
   "cell_type": "code",
   "execution_count": 23,
   "metadata": {},
   "outputs": [
    {
     "data": {
      "text/plain": [
       "float"
      ]
     },
     "execution_count": 23,
     "metadata": {},
     "output_type": "execute_result"
    }
   ],
   "source": [
    "# Add your code here\n"
   ]
  },
  {
   "cell_type": "markdown",
   "metadata": {},
   "source": [
    "3. We can often get Python to convert the type of a variable. Let's change `x` to an `int` and assign it to `y`.\n",
    "    ```python\n",
    "    y = int(x)\n",
    "    type(y)\n",
    "    ```"
   ]
  },
  {
   "cell_type": "code",
   "execution_count": 26,
   "metadata": {},
   "outputs": [
    {
     "data": {
      "text/plain": [
       "int"
      ]
     },
     "execution_count": 26,
     "metadata": {},
     "output_type": "execute_result"
    }
   ],
   "source": [
    "# Add your code here\n"
   ]
  },
  {
   "cell_type": "markdown",
   "metadata": {},
   "source": [
    "4. Conversely, we can convert an `int` to a float\n",
    "    ```python\n",
    "    z = float(y)\n",
    "    print(z)\n",
    "    type(z)\n",
    "    ```\n",
    "    Note the `.0` added to the end to make the integer `3` into the float `3.0`."
   ]
  },
  {
   "cell_type": "code",
   "execution_count": 27,
   "metadata": {},
   "outputs": [
    {
     "name": "stdout",
     "output_type": "stream",
     "text": [
      "3.0\n"
     ]
    },
    {
     "data": {
      "text/plain": [
       "float"
      ]
     },
     "execution_count": 27,
     "metadata": {},
     "output_type": "execute_result"
    }
   ],
   "source": []
  },
  {
   "cell_type": "markdown",
   "metadata": {},
   "source": [
    "## Exercise 3: Assigning Variables\n",
    "\n",
    "One important thing to note is that if you want to keep a value for future reference, you need to assign it to a variable. Otherwise, the value disappears into nothingness...\n",
    "\n",
    "For example, if you run each of these cells, only the results of the second one can be recalled after the cell is executed--the results of the 1st are lost..."
   ]
  },
  {
   "cell_type": "code",
   "execution_count": null,
   "metadata": {},
   "outputs": [],
   "source": [
    "z + 0.14"
   ]
  },
  {
   "cell_type": "code",
   "execution_count": null,
   "metadata": {},
   "outputs": [],
   "source": [
    "pi = z + 0.14"
   ]
  },
  {
   "cell_type": "code",
   "execution_count": null,
   "metadata": {},
   "outputs": [],
   "source": []
  },
  {
   "cell_type": "markdown",
   "metadata": {},
   "source": [
    "## 4. Variable Naming\n",
    "\n",
    "### 4.1 Python is case-sensitive"
   ]
  },
  {
   "cell_type": "markdown",
   "metadata": {},
   "source": [
    "* Python thinks that upper- and lower-case letters are different, so `Name` and `name` are different variables.\n",
    "* There are conventions for using upper-case letters at the start of variable names so we will use lower-case letters for now."
   ]
  },
  {
   "cell_type": "markdown",
   "metadata": {},
   "source": [
    "### 4.2. Use meaningful variable names."
   ]
  },
  {
   "cell_type": "markdown",
   "metadata": {},
   "source": [
    "* Python doesn't care what you call variables as long as they obey the rules (alphanumeric characters and the underscore)."
   ]
  },
  {
   "cell_type": "code",
   "execution_count": null,
   "metadata": {},
   "outputs": [],
   "source": [
    "flabadab = 42\n",
    "ewr_422_yY = 'Ahmed'\n",
    "print(ewr_422_yY, 'is', flabadab, 'years old')"
   ]
  },
  {
   "cell_type": "markdown",
   "metadata": {},
   "source": [
    "* Use meaningful variable names to help other people understand what the program does.\n",
    "* **The most important \"other person\" is your future self.**"
   ]
  },
  {
   "cell_type": "markdown",
   "metadata": {},
   "source": [
    "## Exercise 4: Variable Names\n",
    "\n",
    "When naming variables, there are a few important rules:\n",
    "  * Some words are reserved for Python and cannot be used for variable names. The cell below will print a list of those words. These words have special meanings.\n",
    "  * Python variable names cannot start with a digit\n",
    "  * Python variable names cannot include special characters other than underscore(\"_\").\n",
    "\n",
    "While not written rules, it is best practice to:\n",
    "* Have variable names reflect what they store: `time` is far better than `t` or `x`.\n",
    "* Use plural names for variables that hold multiple items and single names for single items: `records` for a list of all records and `record` for a single record from the list.\n",
    "* Be consistent in using `camelCase` or `underscores_between_words`. PEP8 prefers underscores.\n",
    "*  Variable names that start with underscores, like `__alistairs_real_age`, have a special meaning so we won't do that until we understand the convention."
   ]
  },
  {
   "cell_type": "code",
   "execution_count": null,
   "metadata": {},
   "outputs": [],
   "source": [
    "import keyword\n",
    "print(keyword.kwlist)"
   ]
  },
  {
   "cell_type": "markdown",
   "metadata": {},
   "source": [
    "1. To see what happens, let's create a variable named 1st_name and assign it your name: e.g.\n",
    "\n",
    "  ```python\n",
    "  1st_name = 'Matt'\n",
    "  ```\n",
    "  \n",
    "  <div style=\"padding: 10px;margin-bottom: 20px;border: thin solid #30335D;border-left-width: 10px;background-color: #fff\">\n",
    "   <p><strong>Note:</strong> You will get an error. Read he message and try to interpret it. Notice that the \"^\" (caret) points to where Python thinks the error is. That is close, but not exactly where the issue is. Sometimes the error can be a line or two above the caret--don't assume it is pointing to the code that caused the error. </p>\n",
    "  </div>"
   ]
  },
  {
   "cell_type": "code",
   "execution_count": null,
   "metadata": {},
   "outputs": [],
   "source": [
    "# Add your code here from above\n"
   ]
  },
  {
   "cell_type": "markdown",
   "metadata": {},
   "source": [
    "Can you fix the variable name to one that works?"
   ]
  },
  {
   "cell_type": "code",
   "execution_count": null,
   "metadata": {},
   "outputs": [],
   "source": [
    "# Add your code here\n"
   ]
  },
  {
   "cell_type": "markdown",
   "metadata": {},
   "source": [
    "2. As another example of variables that are not allowed, run the following cell, then rename the variable in a way that removes the error."
   ]
  },
  {
   "cell_type": "code",
   "execution_count": null,
   "metadata": {},
   "outputs": [],
   "source": [
    "# Run this cell, observe the error, and fix it by changing the variable name\n",
    "\n",
    "my_$ = 100"
   ]
  },
  {
   "cell_type": "markdown",
   "metadata": {},
   "source": [
    "## 5. Use comments to add documentation to programs.\n",
    "\n",
    "Striving for self-documenting code--code that uses clear variable names and logical structure and organization--is always a good goal, but sometimes additional comments are needed."
   ]
  },
  {
   "cell_type": "code",
   "execution_count": null,
   "metadata": {},
   "outputs": [],
   "source": [
    "# This sentence isn't executed by Python.\n",
    "adjustment = 0.5   # Neither is this - anything after '#' is ignored.\n",
    "\n",
    "\"\"\"\n",
    "Multiline strings can also be used\n",
    "This allows text to span over more than\n",
    "one line.\n",
    "Triple quotes at the start and end of the \n",
    "multiline string work.\n",
    "\"\"\""
   ]
  },
  {
   "cell_type": "markdown",
   "metadata": {},
   "source": [
    "## 6. String Variables\n",
    "\n",
    "In this section, we're going to highlight some of the unique features of string variables.  Strings are comprised of characters (letters) linked together.  And because string processing is at the center of natural language processing, it's worth spending some time on this topic. "
   ]
  },
  {
   "cell_type": "markdown",
   "metadata": {},
   "source": [
    "### 6.1. String Indexing\n",
    "\n",
    "The first thing to know about stings (and lists) in Python is that they are indexed starting at 0, so the first element in a string or list is the 0<sup>th</sup> element."
   ]
  },
  {
   "cell_type": "code",
   "execution_count": null,
   "metadata": {},
   "outputs": [],
   "source": [
    "# Traverse a string with a loop: while version\n",
    "fruit = 'banana'\n",
    "index = 0\n",
    "\n",
    "while index < len(fruit):\n",
    "    letter = fruit[index]\n",
    "    print(index, \"-->\",letter)\n",
    "    index = index + 1"
   ]
  },
  {
   "cell_type": "code",
   "execution_count": null,
   "metadata": {},
   "outputs": [],
   "source": [
    "# Or using a for loop\n",
    "fruit = 'banana'\n",
    "\n",
    "for char in fruit:\n",
    "    letter = char\n",
    "    print(letter)\n"
   ]
  },
  {
   "cell_type": "markdown",
   "metadata": {},
   "source": [
    "### 6.2. Use an index to get a single character from a string."
   ]
  },
  {
   "cell_type": "markdown",
   "metadata": {},
   "source": [
    "* The characters (individual letters, numbers, and so on) in a string are ordered. For example, the string 'AB' is not the same as 'BA'. Because of this ordering, we can treat the string as a list of characters.\n",
    "* Each position in the string (first, second, etc.) is given a number. This number is called an index or sometimes a subscript.\n",
    "* Indices are numbered from 0.\n",
    "* Use the position's index in square brackets to get the character at that position."
   ]
  },
  {
   "cell_type": "code",
   "execution_count": null,
   "metadata": {},
   "outputs": [],
   "source": [
    "atom_name = 'helium'\n",
    "print(atom_name[0])"
   ]
  },
  {
   "cell_type": "markdown",
   "metadata": {},
   "source": [
    "### 6.3. Use a slice to get a substring."
   ]
  },
  {
   "cell_type": "markdown",
   "metadata": {},
   "source": [
    "* A part of a string is called a substring. A substring can be as short as a single character.\n",
    "* An item in a list is called an element. Whenever we treat a string as if it were a list, the string's elements are its individual characters.\n",
    "* A slice is a part of a string (or, more generally, any list-like thing).\n",
    "* We take a slice by using `[start:stop]`, where `start` is replaced with the index of the first element we want and `stop` is replaced with the index of the element just after the last element we want.\n",
    "* Mathematically, you might say that a slice selects `[start:stop)`.\n",
    "* The difference between `stop` and `start` is the slice's length.\n",
    "* Taking a slice does not change the contents of the original string. Instead, the slice is a copy of part of the original string."
   ]
  },
  {
   "cell_type": "markdown",
   "metadata": {},
   "source": [
    "Consider this image of a string:\n",
    "\n",
    "![Python lists image](./images/python_lists.png)\n",
    "\n",
    "As pictured here, you can see that the small numbers on the tops of the green boxes are the indexes and the slice is between indexes. For example:\n"
   ]
  },
  {
   "cell_type": "code",
   "execution_count": null,
   "metadata": {},
   "outputs": [],
   "source": [
    "my_string=\"banana\"\n",
    "\n",
    "print(\"1:\", my_string[0])\n",
    "print(\"2:\", my_string[1:3])\n",
    "print(\"3:\", my_string[3:])\n",
    "print(\"4:\", my_string[:2])\n",
    "print(\"5:\", my_string[-3:-1])\n",
    "print(\"6:\", my_string[-1])"
   ]
  },
  {
   "cell_type": "markdown",
   "metadata": {},
   "source": [
    "### 6.4. Strings are immutable\n",
    "\n",
    "Strings and some other variable types are immutable--they cannot be changed.\n",
    "\n",
    "You can't change a string, but you can make a new variable with the new string, though it's usually easier to simply re-assign the variable:"
   ]
  },
  {
   "cell_type": "code",
   "execution_count": null,
   "metadata": {},
   "outputs": [],
   "source": [
    "greeting = 'Hello, world!'"
   ]
  },
  {
   "cell_type": "code",
   "execution_count": null,
   "metadata": {},
   "outputs": [],
   "source": [
    "# Let's say we want to change the 'H' in the greeting to a 'J'\n",
    "# First, we need to remember that the 'H' is the first letter, but that's index 0!\n",
    "# Try this...it won't work!\n",
    "\n",
    "greeting[0] = 'J'"
   ]
  },
  {
   "cell_type": "markdown",
   "metadata": {},
   "source": [
    "Here's a work around... \n",
    "\n",
    "We can replace the current contents of the variable `greeting` by re-assigning it a new value that is the letter 'H' followed by everything from the second letter (index 1) on of the current value of `greeting`."
   ]
  },
  {
   "cell_type": "code",
   "execution_count": null,
   "metadata": {},
   "outputs": [],
   "source": [
    "greeting = 'J' + greeting[1:]\n",
    "print(greeting)"
   ]
  },
  {
   "cell_type": "markdown",
   "metadata": {},
   "source": [
    "In the example above, the original string is erased and a completely new string is defined.  The variable name persists, but it now lives in a new memory location. "
   ]
  },
  {
   "cell_type": "markdown",
   "metadata": {},
   "source": [
    "### 6.5. Use the built-in function `len` to find the length of a string."
   ]
  },
  {
   "cell_type": "code",
   "execution_count": null,
   "metadata": {},
   "outputs": [],
   "source": [
    "print(len('helium'))"
   ]
  },
  {
   "cell_type": "markdown",
   "metadata": {},
   "source": [
    " <div style=\"padding: 10px;margin-bottom: 20px;border: thin solid #30335D;border-left-width: 10px;background-color: #fff\">\n",
    "   <p><strong>Note:</strong> Notice the two sets of parentheses. Nested functions are evaluated from the inside out, just like in mathematics.</p>\n",
    "  </div>\n"
   ]
  },
  {
   "cell_type": "markdown",
   "metadata": {},
   "source": [
    "### 6.6. Use the built-in function `in` to find a string in another string\n",
    "\n",
    "The built-in function `in` (one of those reserved keywords) allows us to test if one string is contained within another string--or one item is in a list of items when working with lists."
   ]
  },
  {
   "cell_type": "code",
   "execution_count": null,
   "metadata": {},
   "outputs": [],
   "source": [
    "'a' in 'banana'"
   ]
  },
  {
   "cell_type": "code",
   "execution_count": null,
   "metadata": {},
   "outputs": [],
   "source": [
    "'z' in 'banana'"
   ]
  },
  {
   "cell_type": "code",
   "execution_count": null,
   "metadata": {},
   "outputs": [],
   "source": [
    "'Gator' in 'Go Gators!'"
   ]
  },
  {
   "cell_type": "code",
   "execution_count": null,
   "metadata": {},
   "outputs": [],
   "source": [
    "'Seminole' in 'Go Gators!'"
   ]
  },
  {
   "cell_type": "markdown",
   "metadata": {},
   "source": [
    "## Exercises 6: String Error Syntax\n",
    "\n",
    "This exercise will help you identify errors in strings and fix them. While you can use singe or double quotes for strings, a string must start and end with the same type of quote."
   ]
  },
  {
   "cell_type": "code",
   "execution_count": null,
   "metadata": {},
   "outputs": [],
   "source": [
    "# This is valid\n",
    "bookstore = 'City Lights'"
   ]
  },
  {
   "cell_type": "code",
   "execution_count": null,
   "metadata": {},
   "outputs": [],
   "source": [
    "# This is not, can you fix it?\n",
    "bookstore = \"City Lights'"
   ]
  },
  {
   "cell_type": "code",
   "execution_count": null,
   "metadata": {},
   "outputs": [],
   "source": [
    "# This also doesn't work, why not? Can you fix it?\n",
    "bookstore = 'Powell's Books'"
   ]
  },
  {
   "cell_type": "markdown",
   "metadata": {},
   "source": [
    "Apostrophes are a common cause of coding errors. Pay attention, especially if using single quotes! \n",
    "\n",
    "While it doesn't matter too much which you use, it helps to be consistent, unless there's a need for the other type."
   ]
  },
  {
   "cell_type": "markdown",
   "metadata": {},
   "source": [
    "## 7. Displaying Strings\n",
    "\n",
    "Let's look some more at the `print()` function.\n",
    "\n",
    "We've seen that we can get the value of a variable by listing it as the last line of a Jupyter cell or by enclosing it in a `print()` statement. Importantly the first way only works when it's the last line of the code block:"
   ]
  },
  {
   "cell_type": "code",
   "execution_count": null,
   "metadata": {},
   "outputs": [],
   "source": [
    "# Notice that this block produces no output!\n",
    "spanish_greeting = 'Hola'\n",
    "spanish_greeting\n",
    "arabic_greeting = 'Ahlan was sahlan'"
   ]
  },
  {
   "cell_type": "markdown",
   "metadata": {},
   "source": [
    "Fix the codeblock above to print both the Spanish and Arabic greeting text."
   ]
  },
  {
   "cell_type": "markdown",
   "metadata": {},
   "source": [
    "### Exercise 6: String Interpolation\n",
    "\n",
    "String interpolations is the process of substituting the values of variables into placeholders in a string. For example, if I want to print something like: `Hola Matt!` but use the `first_name` variable to set the name to print.\n",
    "\n",
    "There are several methods in Python to do string interpolation. The following is redrawn from [this GeeksforGeeks article](https://www.geeksforgeeks.org/python-string-interpolation/).\n",
    "\n",
    "![Python string interpolation diagram](images/string_interpolation.png)\n",
    "\n",
    "We'll quickly look at each method and link to additional resources.\n",
    "\n",
    "Let's start by setting up some strings to play with:\n"
   ]
  },
  {
   "cell_type": "code",
   "execution_count": null,
   "metadata": {},
   "outputs": [],
   "source": [
    "mascot = 'Gator'\n",
    "likes = 'AI classes'\n",
    "how_much = 100"
   ]
  },
  {
   "cell_type": "markdown",
   "metadata": {},
   "source": [
    "#### Ex. 6.1: Modulo (`%`) formatting\n",
    "\n",
    "We can use the modulo operator with strings for interpolation:\n",
    "\n",
    "```python\n",
    "print(\"%s fans like %s %d%%!\" %(mascot, likes, how_much))\n",
    "```\n",
    "\n",
    "After each `%` operator, we tell Python how to format the variable--`s` for string, `d` for digits (integers), `f` for floating point.\n",
    "\n",
    "Note that in this case, the double `%%`-sings are interpreted as a \"literal\" percent.\n",
    "\n",
    "[This article](https://www.geeksforgeeks.org/string-formatting-in-python-using/) provides more information and examples on the modulo operator."
   ]
  },
  {
   "cell_type": "code",
   "execution_count": null,
   "metadata": {},
   "outputs": [],
   "source": [
    "# Add your code here from above\n"
   ]
  },
  {
   "cell_type": "markdown",
   "metadata": {},
   "source": [
    "Use the modulo formating and the variables we have defined above to print the text (values that should come from the variables are in bold): \n",
    "> **AI classes** are free for **Gator**s, but cost $**100** for others.\n",
    "\n",
    "Not true...just playing with text 😉!"
   ]
  },
  {
   "cell_type": "code",
   "execution_count": null,
   "metadata": {},
   "outputs": [],
   "source": [
    "# Add your code here\n"
   ]
  },
  {
   "cell_type": "markdown",
   "metadata": {},
   "source": [
    "#### Ex. 6.2: `.format()` formatting\n",
    "\n",
    "The `.format()` method works by placing replacement fields in the text using curly braces, \"{}\". The values to interpolate are passes in the `.format()` method.\n",
    "\n",
    "[This article](https://www.geeksforgeeks.org/python-string-format-method/) provides more information and examples of the `.format()` method.\n",
    "\n",
    "```python\n",
    "print(\"{} fans like {} {}%!\".format(mascot, likes, how_much))\n",
    "```"
   ]
  },
  {
   "cell_type": "code",
   "execution_count": null,
   "metadata": {},
   "outputs": [],
   "source": [
    "# Add your code here from above\n"
   ]
  },
  {
   "cell_type": "markdown",
   "metadata": {},
   "source": [
    "Now use the .format method to print:\n",
    "> **AI classes** are free for **Gator**s, but cost $**100** for others."
   ]
  },
  {
   "cell_type": "code",
   "execution_count": null,
   "metadata": {},
   "outputs": [],
   "source": [
    "# Add your code here\n"
   ]
  },
  {
   "cell_type": "markdown",
   "metadata": {},
   "source": [
    "#### Ex. 6.3: f-strings\n",
    "\n",
    "The final method of interpolation we will cover is f-stings (named for the `f` in front of the string), which were introduced in Python 3.6. As a relatively new method, there are few examples that use it, but we at Practicum AI are big fans and use it a lot. We think it's the easiest method to use and understand.\n",
    "\n",
    "To create an f-string, prefix the string with the letter \"f\". f-strings provide a concise and convenient way to embed Python expressions inside strings.\n",
    "\n",
    "Here's our example text again with f-string formatting:\n",
    "\n",
    "```python\n",
    "print(f\"{mascot} fans like {likes} {how_much}%!\")\n",
    "```"
   ]
  },
  {
   "cell_type": "code",
   "execution_count": null,
   "metadata": {},
   "outputs": [],
   "source": [
    "# Add your code here from above\n"
   ]
  },
  {
   "cell_type": "markdown",
   "metadata": {},
   "source": [
    "Finally, use f-strings to print:\n",
    "> **AI classes** are free for **Gator**s, but cost $**100** for others."
   ]
  },
  {
   "cell_type": "code",
   "execution_count": null,
   "metadata": {},
   "outputs": [],
   "source": [
    "# Add your code here\n"
   ]
  },
  {
   "cell_type": "markdown",
   "metadata": {},
   "source": [
    "#### Why so many methods?\n",
    "\n",
    "It may seem overwhelming to see all of these methods to do essentially the same thing. But a few notes on that...\n",
    "* It is almost always the case that there is more than one way to do something\n",
    "* Being generally familiar with different ways will help you as you search for help\n",
    "* Sometimes one method is easier than another, but largely pick one that works for you and be consistent!"
   ]
  },
  {
   "cell_type": "markdown",
   "metadata": {},
   "source": [
    "## 8. The `dir` function\n",
    "\n",
    "When we create a Python variable, we are creating an instance of a class. We talked about variable types above. Each type has its own class, and each class has its own properties and *methods* or things that objects of that class can do.\n",
    "\n",
    "The `dir` function can help you explore the methods available for an object."
   ]
  },
  {
   "cell_type": "code",
   "execution_count": null,
   "metadata": {},
   "outputs": [],
   "source": [
    "stuff='Hello, world!'\n",
    "print(type(stuff))\n",
    "dir(stuff)"
   ]
  },
  {
   "cell_type": "code",
   "execution_count": null,
   "metadata": {},
   "outputs": [],
   "source": [
    "help(str.upper)"
   ]
  },
  {
   "cell_type": "code",
   "execution_count": null,
   "metadata": {},
   "outputs": [],
   "source": [
    "word='banana'\n",
    "print(word.upper())"
   ]
  },
  {
   "cell_type": "code",
   "execution_count": null,
   "metadata": {},
   "outputs": [],
   "source": [
    "index = word.find('a')\n",
    "print(index)"
   ]
  },
  {
   "cell_type": "code",
   "execution_count": null,
   "metadata": {},
   "outputs": [],
   "source": [
    "line='  Here we go  '\n",
    "line.strip()"
   ]
  },
  {
   "cell_type": "code",
   "execution_count": null,
   "metadata": {},
   "outputs": [],
   "source": [
    "# You can combine methods too...but order matters!!!\n",
    "line='Here we go'\n",
    "print(line.startswith(\"h\"))\n",
    "print(line.lower().startswith(\"h\"))\n",
    "\n",
    "# This print statement fails because the lower() method comes before startswith()...\n",
    "print(line.startswith(\"h\").lower())"
   ]
  },
  {
   "cell_type": "markdown",
   "metadata": {},
   "source": [
    "### Exercise 7: Variable Methods \n",
    "\n",
    "Explore methods available for strings, integers and more. \n",
    "\n",
    "In addition to the `dir` function, when using Jupyter, the `Tab`-key can show you options. If your type the name of an existing variable and the '`.`' then hit the `Tab`-key, you should see a list of methods as shown in the screenshot below:\n",
    "\n",
    "![Screenshot of Tab-key display of variable methods](images/tab_methods.png)"
   ]
  },
  {
   "cell_type": "code",
   "execution_count": null,
   "metadata": {},
   "outputs": [],
   "source": [
    "# Explore some additional string methods\n"
   ]
  },
  {
   "cell_type": "code",
   "execution_count": null,
   "metadata": {},
   "outputs": [],
   "source": [
    "# Create an integer variable and explore some integer methods\n"
   ]
  },
  {
   "cell_type": "code",
   "execution_count": null,
   "metadata": {},
   "outputs": [],
   "source": [
    "# Below is a list variable, explore some list methods in the next cell\n",
    "\n",
    "my_list = [1,2,3,4]"
   ]
  },
  {
   "cell_type": "code",
   "execution_count": null,
   "metadata": {},
   "outputs": [],
   "source": [
    "# Explore list methods available to my_list\n"
   ]
  },
  {
   "cell_type": "markdown",
   "metadata": {},
   "source": [
    "***\n",
    "\n",
    "## Bonus Questions"
   ]
  },
  {
   "cell_type": "markdown",
   "metadata": {},
   "source": [
    "#### Q1: Swapping Values "
   ]
  },
  {
   "cell_type": "markdown",
   "metadata": {},
   "source": [
    "Fill the table showing the values of the variables in this program **after** each statement is executed. "
   ]
  },
  {
   "cell_type": "code",
   "execution_count": null,
   "metadata": {},
   "outputs": [],
   "source": [
    "# Command  # Value of x   # Value of y   # Value of swap #\n",
    "x = 1.0    #              #              #               #\n",
    "y = 3.0    #              #              #               #\n",
    "swap = x   #              #              #               #\n",
    "x = y      #              #              #               #\n",
    "y = swap   #              #              #               #"
   ]
  },
  {
   "cell_type": "markdown",
   "metadata": {},
   "source": [
    "**Solution**\n",
    "\n",
    "Click on the '...' below to show the solution."
   ]
  },
  {
   "cell_type": "code",
   "execution_count": null,
   "metadata": {
    "jupyter": {
     "source_hidden": true
    }
   },
   "outputs": [],
   "source": [
    "# Command  # Value of x   # Value of y   # Value of swap #\n",
    "x = 1.0    # 1.0          # not defined  # not defined   #\n",
    "y = 3.0    # 1.0          # 3.0          # not defined   #\n",
    "swap = x   # 1.0          # 3.0          # 1.0           #\n",
    "x = y      # 3.0          # 3.0          # 1.0           #\n",
    "y = swap   # 3.0          # 1.0          # 1.0           #\n",
    "\n",
    "# These three lines exchange the values in `x` and `y` using the `swap`\n",
    "# Variable for temporary storage. This is a fairly common programming idiom."
   ]
  },
  {
   "cell_type": "markdown",
   "metadata": {},
   "source": [
    "#### Q2: Predicting Values"
   ]
  },
  {
   "cell_type": "markdown",
   "metadata": {},
   "source": [
    "What is the final value of `positon` in the program below? (Try to predict the value without the running the program, then check your prediciton). "
   ]
  },
  {
   "cell_type": "code",
   "execution_count": null,
   "metadata": {},
   "outputs": [],
   "source": [
    "initial = 'left'\n",
    "position = initial\n",
    "initial = 'right'"
   ]
  },
  {
   "cell_type": "markdown",
   "metadata": {},
   "source": [
    "**Solution**\n",
    "\n",
    "Click on the '...' below to show the solution."
   ]
  },
  {
   "cell_type": "code",
   "execution_count": null,
   "metadata": {
    "jupyter": {
     "source_hidden": true
    }
   },
   "outputs": [],
   "source": [
    "# 'left' \n",
    "#\n",
    "# The initial variable is assigned the value 'left'.  In the second line, the \n",
    "# position variable also receives the string value 'left'. In the third line, \n",
    "# the initial variable is given the value of 'right', but the position variable \n",
    "# retains its string value of 'left'"
   ]
  },
  {
   "cell_type": "markdown",
   "metadata": {},
   "source": [
    "#### Q3: Assigning Names"
   ]
  },
  {
   "cell_type": "markdown",
   "metadata": {},
   "source": [
    "If you assign `a = 123`, what happens if you try to get the second digit of `a` vis `a[1]`?"
   ]
  },
  {
   "cell_type": "code",
   "execution_count": null,
   "metadata": {},
   "outputs": [],
   "source": []
  },
  {
   "cell_type": "markdown",
   "metadata": {},
   "source": [
    "**Solution**\n",
    "\n",
    "Click on the '...' below to show the solution."
   ]
  },
  {
   "cell_type": "code",
   "execution_count": null,
   "metadata": {
    "jupyter": {
     "source_hidden": true
    }
   },
   "outputs": [],
   "source": [
    "# Numbers are not stored in the written representation, so they can't be \n",
    "# treated like strings.\n",
    "\n",
    "a = 123\n",
    "print(a[1])\n"
   ]
  },
  {
   "cell_type": "markdown",
   "metadata": {},
   "source": [
    "#### Q4: Choosing a Name"
   ]
  },
  {
   "cell_type": "markdown",
   "metadata": {},
   "source": [
    "Which is a better variable name, `m`, `min`, or `minutes`? Why? Hint: Think about which code you would ratgher inherit from someone whos is leaving the lab: <br> <br>\n",
    "1. `ts = m * 60 + s` <br>\n",
    "2. `tot_sec - min * 60 + sec` <br>\n",
    "3. `total_seconds = minutes * 60 + seconds`<br>\n",
    "    "
   ]
  },
  {
   "cell_type": "markdown",
   "metadata": {},
   "source": [
    "**Solution**\n",
    "\n",
    "Click on the '...' below to show the solution."
   ]
  },
  {
   "cell_type": "code",
   "execution_count": null,
   "metadata": {
    "jupyter": {
     "source_hidden": true
    }
   },
   "outputs": [],
   "source": [
    "# Minutes is better because min might mean something like \"minimum\" \n",
    "# (and actually does in Python, but we haven't seen that yet)."
   ]
  },
  {
   "cell_type": "markdown",
   "metadata": {},
   "source": [
    "#### Q5: Slicing "
   ]
  },
  {
   "cell_type": "markdown",
   "metadata": {},
   "source": [
    "What does the following program finally print?"
   ]
  },
  {
   "cell_type": "code",
   "execution_count": null,
   "metadata": {},
   "outputs": [],
   "source": [
    "atom _name = 'carbon'\n",
    "print('atom_name[1:3] is:', atom_name[1:3])"
   ]
  },
  {
   "cell_type": "markdown",
   "metadata": {},
   "source": [
    "**Solution**\n",
    "\n",
    "Click on the '...' below to show the solution."
   ]
  },
  {
   "cell_type": "code",
   "execution_count": null,
   "metadata": {
    "jupyter": {
     "source_hidden": true
    }
   },
   "outputs": [],
   "source": [
    "# atom_name[1:3] = \"ar\""
   ]
  },
  {
   "cell_type": "markdown",
   "metadata": {},
   "source": [
    "#### Q6: Slicing Concepts"
   ]
  },
  {
   "cell_type": "markdown",
   "metadata": {},
   "source": [
    "1. What does `thing[low:high]` do?\n",
    "2. What does `thing[low:]` without a value after the colon) do?\n",
    "3. What does `thing[:high]` (without a value before the colon) do?\n",
    "4. What does `thing[:]` (just a colon) do?\n",
    "5. What does `thing[number:negative-number]` do?\n",
    "6. What happens when you choose a `high` value which is out of range? (i.e., try `atom_name[0:15]`)"
   ]
  },
  {
   "cell_type": "markdown",
   "metadata": {},
   "source": [
    "**Solution**\n",
    "\n",
    "Click on the '...' below to show the solution."
   ]
  },
  {
   "cell_type": "code",
   "execution_count": null,
   "metadata": {
    "jupyter": {
     "source_hidden": true
    }
   },
   "outputs": [],
   "source": [
    "# 1. thing[low:high] returns a slice from `low` to the value before `high`\n",
    "# 2. thing[low:] returns a slice from `low` to the end of `thing`\n",
    "# 3. thing[:high] returns a slice from the beginning of `thing` to the value \n",
    "#     before `high`\n",
    "# 4. thing[:] returns all of `thing`\n",
    "# 5. thing[number:negative-number] returns a slice from `number` to \n",
    "#    `negative-number` values from the end of `thing`\n",
    "# 6. If a part of the slice is out of range, the operation does not fail. \n",
    "#    `atom_name[0:15]` gives the same result as `atom_name[0:]`."
   ]
  }
 ],
 "metadata": {
  "interpreter": {
   "hash": "ac59ebe37160ed0dfa835113d9b8498d9f09ceb179beaac4002f036b9467c963"
  },
  "kernelspec": {
   "display_name": "UFRC Python-3.8",
   "language": "python",
   "name": "python3-3.8-ufrc"
  },
  "language_info": {
   "codemirror_mode": {
    "name": "ipython",
    "version": 3
   },
   "file_extension": ".py",
   "mimetype": "text/x-python",
   "name": "python",
   "nbconvert_exporter": "python",
   "pygments_lexer": "ipython3",
   "version": "3.8.5"
  }
 },
 "nbformat": 4,
 "nbformat_minor": 4
}
