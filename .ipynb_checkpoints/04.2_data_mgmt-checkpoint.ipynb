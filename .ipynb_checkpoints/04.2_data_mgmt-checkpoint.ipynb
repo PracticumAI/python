{
 "cells": [
  {
   "cell_type": "markdown",
   "metadata": {},
   "source": [
    "![Practicum AI Logo image](images/practicum_ai_logo.png)\n",
    "***\n",
    "This exercise adapted from Lipp et al. (2020) <i>The Data Wrangling Workshop</i> from <a href=\"https://www.packtpub.com/product/the-data-wrangling-workshop-second-edition/9781839215001\">Packt Publishers</a> and the <a href=\"https://github.com/swcarpentry/python-novice-gapminder\">Software Carpentries</a>\n",
    "\n",
    "(15 Minutes: Presentation)\n",
    "\n",
    "# Data Management - Part 2\n",
    "### (Data Wrangling Workshop Textbook)\n",
    "\n",
    "***"
   ]
  },
  {
   "cell_type": "markdown",
   "metadata": {},
   "source": [
    "## Use the Pandas library to do statistics on tabular data."
   ]
  },
  {
   "cell_type": "markdown",
   "metadata": {},
   "source": [
    "* Pandas is a widely-used Python library for statistics, particularly on tabular data.\n",
    "* Borrows many features from R's dataframes.\n",
    "    * A 2-dimenstional table whose columns have names and potentially have different data types.\n",
    "* Load it with `import pandas`.\n",
    "* Read a Comma Separate Values (CSV) data file with `pandas.read_csv`.\n",
    "    * Argument is the name of the file to be read.\n",
    "    * Assign result to a variable to store the data that was read."
   ]
  },
  {
   "cell_type": "code",
   "execution_count": 1,
   "metadata": {},
   "outputs": [
    {
     "name": "stdout",
     "output_type": "stream",
     "text": [
      "       country  gdpPercap_1952  gdpPercap_1957  gdpPercap_1962  \\\n",
      "0    Australia     10039.59564     10949.64959     12217.22686   \n",
      "1  New Zealand     10556.57566     12247.39532     13175.67800   \n",
      "\n",
      "   gdpPercap_1967  gdpPercap_1972  gdpPercap_1977  gdpPercap_1982  \\\n",
      "0     14526.12465     16788.62948     18334.19751     19477.00928   \n",
      "1     14463.91893     16046.03728     16233.71770     17632.41040   \n",
      "\n",
      "   gdpPercap_1987  gdpPercap_1992  gdpPercap_1997  gdpPercap_2002  \\\n",
      "0     21888.88903     23424.76683     26997.93657     30687.75473   \n",
      "1     19007.19129     18363.32494     21050.41377     23189.80135   \n",
      "\n",
      "   gdpPercap_2007  \n",
      "0     34435.36744  \n",
      "1     25185.00911  \n"
     ]
    }
   ],
   "source": [
    "import pandas\n",
    "\n",
    "data = pandas.read_csv('data/gapminder_gdp_oceania.csv')\n",
    "print(data)"
   ]
  },
  {
   "cell_type": "markdown",
   "metadata": {},
   "source": [
    "* The columns in a dataframe are the observed variables, and the rows are the observations.\n",
    "* Pandas uses backslash `\\` to show wrapped lines when output is too wide to fit the screen."
   ]
  },
  {
   "cell_type": "markdown",
   "metadata": {},
   "source": [
    "#### File Not Found"
   ]
  },
  {
   "cell_type": "markdown",
   "metadata": {},
   "source": [
    "Our lessons store their `data` files in a data sub-directory, which is why the path to the file is `data/gapminder_gdp_oceania.csv`. If you forget to include `data/`, or if you include it but your copy of the file is somewhere else, you will get a runtime error that ends with a line like this:"
   ]
  },
  {
   "cell_type": "markdown",
   "metadata": {},
   "source": [
    "`OSError: File b'gapminder_gdp_oceania.csv' does not exist`"
   ]
  },
  {
   "cell_type": "markdown",
   "metadata": {},
   "source": [
    "### Exercises 5.01 (Working with headers when reading data from .csv file) \n",
    "**Page 240**\n",
    "\n",
    "***"
   ]
  },
  {
   "cell_type": "code",
   "execution_count": null,
   "metadata": {},
   "outputs": [],
   "source": []
  },
  {
   "cell_type": "code",
   "execution_count": null,
   "metadata": {},
   "outputs": [],
   "source": []
  },
  {
   "cell_type": "code",
   "execution_count": null,
   "metadata": {},
   "outputs": [],
   "source": []
  },
  {
   "cell_type": "markdown",
   "metadata": {},
   "source": [
    "### Exercises 5.02 (Reading from a .csv file where delimiters are not commas) \n",
    "**Page 244**\n",
    "\n",
    "***"
   ]
  },
  {
   "cell_type": "code",
   "execution_count": null,
   "metadata": {},
   "outputs": [],
   "source": []
  },
  {
   "cell_type": "code",
   "execution_count": null,
   "metadata": {},
   "outputs": [],
   "source": []
  },
  {
   "cell_type": "code",
   "execution_count": null,
   "metadata": {},
   "outputs": [],
   "source": []
  },
  {
   "cell_type": "markdown",
   "metadata": {},
   "source": [
    "### Exercises 5.03 (Bypassing and renaming the headers of a .csv file) \n",
    "**Page 246**\n",
    "\n",
    "***"
   ]
  },
  {
   "cell_type": "code",
   "execution_count": null,
   "metadata": {},
   "outputs": [],
   "source": []
  },
  {
   "cell_type": "code",
   "execution_count": null,
   "metadata": {},
   "outputs": [],
   "source": []
  },
  {
   "cell_type": "code",
   "execution_count": null,
   "metadata": {},
   "outputs": [],
   "source": []
  },
  {
   "cell_type": "markdown",
   "metadata": {},
   "source": [
    "### Exercises 5.04 (Skipping initial rows and footers when reading a .csv file) \n",
    "**Page 248**\n",
    "\n",
    "***"
   ]
  },
  {
   "cell_type": "code",
   "execution_count": null,
   "metadata": {},
   "outputs": [],
   "source": []
  },
  {
   "cell_type": "code",
   "execution_count": null,
   "metadata": {},
   "outputs": [],
   "source": []
  },
  {
   "cell_type": "code",
   "execution_count": null,
   "metadata": {},
   "outputs": [],
   "source": []
  },
  {
   "cell_type": "markdown",
   "metadata": {},
   "source": [
    "## Use `DataFrame.info` to find out more about a dataframe."
   ]
  },
  {
   "cell_type": "code",
   "execution_count": 4,
   "metadata": {},
   "outputs": [
    {
     "name": "stdout",
     "output_type": "stream",
     "text": [
      "<class 'pandas.core.frame.DataFrame'>\n",
      "Index: 2 entries, Australia to New Zealand\n",
      "Data columns (total 12 columns):\n",
      "gdpPercap_1952    2 non-null float64\n",
      "gdpPercap_1957    2 non-null float64\n",
      "gdpPercap_1962    2 non-null float64\n",
      "gdpPercap_1967    2 non-null float64\n",
      "gdpPercap_1972    2 non-null float64\n",
      "gdpPercap_1977    2 non-null float64\n",
      "gdpPercap_1982    2 non-null float64\n",
      "gdpPercap_1987    2 non-null float64\n",
      "gdpPercap_1992    2 non-null float64\n",
      "gdpPercap_1997    2 non-null float64\n",
      "gdpPercap_2002    2 non-null float64\n",
      "gdpPercap_2007    2 non-null float64\n",
      "dtypes: float64(12)\n",
      "memory usage: 208.0+ bytes\n"
     ]
    }
   ],
   "source": [
    "data.info()"
   ]
  },
  {
   "cell_type": "markdown",
   "metadata": {},
   "source": [
    "* This is a `DataFrame`\n",
    "* Two rows named `'Australia'` and `'New Zealand'`\n",
    "* Twelve columns, each of which has two actual 64-bit floating point values.\n",
    "    * We will talk later about null values, which are used to represent missing observations.\n",
    "* Uses 208 bytes of memory."
   ]
  },
  {
   "cell_type": "markdown",
   "metadata": {},
   "source": [
    "## The `DataFrame.columns` variable stores information about the dataframe's columns."
   ]
  },
  {
   "cell_type": "markdown",
   "metadata": {},
   "source": [
    "* Note that this is data, *not* a method.\n",
    "    * Like `math.pi`.\n",
    "    * So do not use `()` to try to call it.\n",
    "* Called a *member variable*, or just *member*."
   ]
  },
  {
   "cell_type": "code",
   "execution_count": 5,
   "metadata": {},
   "outputs": [
    {
     "name": "stdout",
     "output_type": "stream",
     "text": [
      "Index(['gdpPercap_1952', 'gdpPercap_1957', 'gdpPercap_1962', 'gdpPercap_1967',\n",
      "       'gdpPercap_1972', 'gdpPercap_1977', 'gdpPercap_1982', 'gdpPercap_1987',\n",
      "       'gdpPercap_1992', 'gdpPercap_1997', 'gdpPercap_2002', 'gdpPercap_2007'],\n",
      "      dtype='object')\n"
     ]
    }
   ],
   "source": [
    "print(data.columns)"
   ]
  },
  {
   "cell_type": "markdown",
   "metadata": {},
   "source": [
    "## Use `DataFrame.T` to transpose a dataframe."
   ]
  },
  {
   "cell_type": "markdown",
   "metadata": {},
   "source": [
    "* Sometimes want to treat columns as rows and vice versa.\n",
    "* Transpose (written `.T`) doesn't copy the data, just changes the program's view of it.\n",
    "* Like `columns`, it is a member variable."
   ]
  },
  {
   "cell_type": "code",
   "execution_count": 6,
   "metadata": {},
   "outputs": [
    {
     "name": "stdout",
     "output_type": "stream",
     "text": [
      "country           Australia  New Zealand\n",
      "gdpPercap_1952  10039.59564  10556.57566\n",
      "gdpPercap_1957  10949.64959  12247.39532\n",
      "gdpPercap_1962  12217.22686  13175.67800\n",
      "gdpPercap_1967  14526.12465  14463.91893\n",
      "gdpPercap_1972  16788.62948  16046.03728\n",
      "gdpPercap_1977  18334.19751  16233.71770\n",
      "gdpPercap_1982  19477.00928  17632.41040\n",
      "gdpPercap_1987  21888.88903  19007.19129\n",
      "gdpPercap_1992  23424.76683  18363.32494\n",
      "gdpPercap_1997  26997.93657  21050.41377\n",
      "gdpPercap_2002  30687.75473  23189.80135\n",
      "gdpPercap_2007  34435.36744  25185.00911\n"
     ]
    }
   ],
   "source": [
    "print(data.T)"
   ]
  },
  {
   "cell_type": "markdown",
   "metadata": {},
   "source": [
    "## Use `DataFrame.describe` to get summary statistics about data."
   ]
  },
  {
   "cell_type": "markdown",
   "metadata": {},
   "source": [
    "* `DataFrame.describe()` gets the summary statistics of only the columns that have numerical data. All other columns are ignored, unless you use the argument `include='all'`."
   ]
  },
  {
   "cell_type": "code",
   "execution_count": 7,
   "metadata": {},
   "outputs": [
    {
     "name": "stdout",
     "output_type": "stream",
     "text": [
      "       gdpPercap_1952  gdpPercap_1957  gdpPercap_1962  gdpPercap_1967  \\\n",
      "count        2.000000        2.000000        2.000000        2.000000   \n",
      "mean     10298.085650    11598.522455    12696.452430    14495.021790   \n",
      "std        365.560078      917.644806      677.727301       43.986086   \n",
      "min      10039.595640    10949.649590    12217.226860    14463.918930   \n",
      "25%      10168.840645    11274.086022    12456.839645    14479.470360   \n",
      "50%      10298.085650    11598.522455    12696.452430    14495.021790   \n",
      "75%      10427.330655    11922.958888    12936.065215    14510.573220   \n",
      "max      10556.575660    12247.395320    13175.678000    14526.124650   \n",
      "\n",
      "       gdpPercap_1972  gdpPercap_1977  gdpPercap_1982  gdpPercap_1987  \\\n",
      "count         2.00000        2.000000        2.000000        2.000000   \n",
      "mean      16417.33338    17283.957605    18554.709840    20448.040160   \n",
      "std         525.09198     1485.263517     1304.328377     2037.668013   \n",
      "min       16046.03728    16233.717700    17632.410400    19007.191290   \n",
      "25%       16231.68533    16758.837652    18093.560120    19727.615725   \n",
      "50%       16417.33338    17283.957605    18554.709840    20448.040160   \n",
      "75%       16602.98143    17809.077557    19015.859560    21168.464595   \n",
      "max       16788.62948    18334.197510    19477.009280    21888.889030   \n",
      "\n",
      "       gdpPercap_1992  gdpPercap_1997  gdpPercap_2002  gdpPercap_2007  \n",
      "count        2.000000        2.000000        2.000000        2.000000  \n",
      "mean     20894.045885    24024.175170    26938.778040    29810.188275  \n",
      "std       3578.979883     4205.533703     5301.853680     6540.991104  \n",
      "min      18363.324940    21050.413770    23189.801350    25185.009110  \n",
      "25%      19628.685413    22537.294470    25064.289695    27497.598692  \n",
      "50%      20894.045885    24024.175170    26938.778040    29810.188275  \n",
      "75%      22159.406358    25511.055870    28813.266385    32122.777857  \n",
      "max      23424.766830    26997.936570    30687.754730    34435.367440  \n"
     ]
    }
   ],
   "source": [
    "print(data.describe())"
   ]
  },
  {
   "cell_type": "markdown",
   "metadata": {},
   "source": [
    "* Not particularly useful with just two records, but very helpful when there are thousands."
   ]
  },
  {
   "cell_type": "markdown",
   "metadata": {},
   "source": [
    "***\n",
    "\n",
    "## Bonus Questions"
   ]
  },
  {
   "cell_type": "markdown",
   "metadata": {},
   "source": [
    "#### Q1: Reading Other Data"
   ]
  },
  {
   "cell_type": "markdown",
   "metadata": {},
   "source": [
    "Read the data in `gapminder_gdp_americas.csv` (which should be the same directory as `gapminder_gdp_oceania.csv`) into the variable called `americas` and display its summary statistics. "
   ]
  },
  {
   "cell_type": "markdown",
   "metadata": {},
   "source": [
    "**Solution**\n",
    "\n",
    "Click on the '...' below to show the solution."
   ]
  },
  {
   "cell_type": "code",
   "execution_count": 1,
   "metadata": {
    "jupyter": {
     "source_hidden": true
    }
   },
   "outputs": [],
   "source": [
    "# To read in a CSV, we use `pandas.read_csv`and pass the filename \n",
    "# 'data/gapminder_gdp_americas.csv' to it. We also once again pass the column \n",
    "# name 'country' to the parameter `index_col` in order to index by country: \n",
    "\n",
    "americas = pandas.read_csv('data/gapminder_gdp_americas.csv', index_col='country')"
   ]
  },
  {
   "cell_type": "markdown",
   "metadata": {},
   "source": [
    "#### Q2: Inspecting Data "
   ]
  },
  {
   "cell_type": "markdown",
   "metadata": {},
   "source": [
    "After reading the data for the AMericans, use `help(americas.head)` and `help(americas.tal)` to find out what `DataFrame.head` and `DataFrame.tail` do."
   ]
  },
  {
   "cell_type": "markdown",
   "metadata": {},
   "source": [
    "1. What method call will display the first three rows fo this data?\n",
    "2. What method call will display the last three columns of this data? (Hint: you may need to change your view of the data)"
   ]
  },
  {
   "cell_type": "markdown",
   "metadata": {},
   "source": [
    "**Solution**\n",
    "\n",
    "Click on the '...' below to show the solution."
   ]
  },
  {
   "cell_type": "code",
   "execution_count": 2,
   "metadata": {
    "jupyter": {
     "source_hidden": true
    }
   },
   "outputs": [],
   "source": [
    "# 1. We can check out the first five rows of `americas` by executing \n",
    "# `americas.head()` (allowing us to view the head of the DataFrame). We can \n",
    "# specify the number of rows we wish to see by specifying the parameter `n` \n",
    "# in our call to `americas.head()`. To view the first three rows, execute:\n",
    "\n",
    "americas.head(n=3)\n",
    "\n",
    "# The output is then\n",
    "\n",
    "         continent  gdpPercap_1952  gdpPercap_1957  gdpPercap_1962  \\\n",
    "country                                                               \n",
    "Argentina  Americas     5911.315053     6856.856212     7133.166023   \n",
    "Bolivia    Americas     2677.326347     2127.686326     2180.972546   \n",
    "Brazil     Americas     2108.944355     2487.365989     3336.585802`   \n",
    "\n",
    "          gdpPercap_1967  gdpPercap_1972  gdpPercap_1977  gdpPercap_1982  \\\n",
    "country                                                                     \n",
    "Argentina     8052.953021     9443.038526    10079.026740     8997.897412   \n",
    "Bolivia       2586.886053     2980.331339     3548.097832     3156.510452   \n",
    "Brazil        3429.864357     4985.711467     6660.118654     7030.835878`   \n",
    "\n",
    "          gdpPercap_1987  gdpPercap_1992  gdpPercap_1997  gdpPercap_2002  \\\n",
    "country                                                                     \n",
    "Argentina     9139.671389     9308.418710    10967.281950     8797.640716   \n",
    "Bolivia       2753.691490     2961.699694     3326.143191     3413.262690   \n",
    "Brazil        7807.095818     6950.283021     7957.980824     8131.212843`   \n",
    "\n",
    "          gdpPercap_2007  \n",
    "country                    \n",
    "Argentina    12779.379640  \n",
    "Bolivia       3822.137084  \n",
    "Brazil        9065.800825\n",
    "\n",
    "# 2. To check out the last three rows of `americas`, we would use the command, \n",
    "# `americas.tail(n=3)`, analogous to `head()` used above. However, here we want \n",
    "# to look at the last three columns so we need to change our view and then use \n",
    "# `tail()`. To do so, we create a new DataFrame in which rows and columns are \n",
    "# switched\n",
    "\n",
    "americas_flipped = americas.T\n",
    "\n",
    "# We can then view the last three columns of `americas` by viewing the last \n",
    "# three rows of `americas_flipped`:\n",
    "\n",
    "americas_flipped.tail(n = 3)\n",
    "\n",
    "# The output is then:\n",
    "\n",
    "country        Argentina  Bolivia   Brazil   Canada    Chile Colombia  \\\n",
    "gdpPercap_1997   10967.3  3326.14  7957.98  28954.9  10118.1  6117.36   \n",
    "gdpPercap_2002   8797.64  3413.26  8131.21    33329  10778.8  5755.26   \n",
    "gdpPercap_2007   12779.4  3822.14   9065.8  36319.2  13171.6  7006.58   \n",
    "\n",
    "country        Costa Rica     Cuba Dominican Republic  Ecuador    ...     \\\n",
    "gdpPercap_1997    6677.05  5431.99             3614.1  7429.46    ...      \n",
    "gdpPercap_2002    7723.45  6340.65            4563.81  5773.04    ...      \n",
    "gdpPercap_2007    9645.06   8948.1            6025.37  6873.26    ...      \n",
    "\n",
    "country          Mexico Nicaragua   Panama Paraguay     Peru Puerto Rico  \\\n",
    "gdpPercap_1997   9767.3   2253.02  7113.69   4247.4  5838.35     16999.4   \n",
    "gdpPercap_2002  10742.4   2474.55  7356.03  3783.67  5909.02     18855.6   \n",
    "gdpPercap_2007  11977.6   2749.32  9809.19  4172.84  7408.91     19328.7   \n",
    "\n",
    "country        Trinidad and Tobago United States  Uruguay Venezuela  \n",
    "gdpPercap_1997             8792.57       35767.4  9230.24   10165.5  \n",
    "gdpPercap_2002             11460.6       39097.1     7727   8605.05  \n",
    "gdpPercap_2007             18008.5       42951.7  10611.5   11415.8  \n",
    "\n",
    "Note: we could have done the above in a single line of code by 'chaining' the commands:\n",
    "\n",
    "americas.T.tail(n=3)\n",
    "\n"
   ]
  },
  {
   "cell_type": "markdown",
   "metadata": {},
   "source": [
    "#### Q3: Reading Files in Other Directories"
   ]
  },
  {
   "cell_type": "markdown",
   "metadata": {},
   "source": [
    "The data for your current project is stored in a file called `microbes.csv`, which is located in a folder called `field_data`. Your are doing analysis in a notebook called `analysis.ipynb` in a sibliong folder called `thesis`:"
   ]
  },
  {
   "cell_type": "code",
   "execution_count": null,
   "metadata": {},
   "outputs": [],
   "source": [
    "your home directory\n",
    "+-- field data/\n",
    "|    +-- microbes.csv\n",
    "+-- thesis/\n",
    "     +-- analysis.ipynb"
   ]
  },
  {
   "cell_type": "markdown",
   "metadata": {},
   "source": [
    "What value(s) should you pass to `read.csv` to read `microbes.csv` in `analysis.ipynb`?"
   ]
  },
  {
   "cell_type": "markdown",
   "metadata": {},
   "source": [
    "**Solution**\n",
    "\n",
    "Click on the '...' below to show the solution."
   ]
  },
  {
   "cell_type": "code",
   "execution_count": 3,
   "metadata": {
    "jupyter": {
     "source_hidden": true
    }
   },
   "outputs": [],
   "source": [
    "# We need to specify the path to the file of interest in the call to \n",
    "# `pandas.read_csv`. We first need to `jump` out of the folder `thesis` using\n",
    "# `../` and then into the folder `field_data` using `field_data/`. Then we \n",
    "# can specify the filename `microbes.csv`.\n",
    "#\n",
    "# The result is as follows:\n",
    "\n",
    "data_microbes = pandas.read_csv('../field_data/microbes.csv')"
   ]
  },
  {
   "cell_type": "markdown",
   "metadata": {},
   "source": [
    "#### Q4: Writing Data"
   ]
  },
  {
   "cell_type": "markdown",
   "metadata": {},
   "source": [
    "As well as the `read_csv` function for reafing data from a  file, Pandas provides a `to_csv` function to write dataframes to files. Applying what you've learned about reading from files, write one of your dataframes to a file calles `processed.csv`. You can use `help` to get information on how to use `to_csv`. "
   ]
  },
  {
   "cell_type": "markdown",
   "metadata": {},
   "source": [
    "**Solution**\n",
    "\n",
    "Click on the '...' below to show the solution."
   ]
  },
  {
   "cell_type": "code",
   "execution_count": 4,
   "metadata": {
    "jupyter": {
     "source_hidden": true
    }
   },
   "outputs": [],
   "source": [
    "# In order to write the DataFrame `americas` to a file called `processed.csv`, \n",
    "# execute the following command:\n",
    "\n",
    "americas.to_csv('processed.csv')\n",
    "\n",
    "# For help on `to_csv`, you could execute, for example,\n",
    "\n",
    "help(americas.to_csv)\n",
    "\n",
    "# Note that `help(to_csv)` throws an error! This is a subtlety and is due to \n",
    "# the fact that `to_csv` is NOT a function in and of itself and the actual \n",
    "# call is `americas.to_csv`. "
   ]
  }
 ],
 "metadata": {
  "kernelspec": {
   "display_name": "UFRC Python-3.8",
   "language": "python",
   "name": "python3-3.8-ufrc"
  },
  "language_info": {
   "codemirror_mode": {
    "name": "ipython",
    "version": 3
   },
   "file_extension": ".py",
   "mimetype": "text/x-python",
   "name": "python",
   "nbconvert_exporter": "python",
   "pygments_lexer": "ipython3",
   "version": "3.8.5"
  }
 },
 "nbformat": 4,
 "nbformat_minor": 4
}
