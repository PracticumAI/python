{
 "cells": [
  {
   "cell_type": "markdown",
   "metadata": {
    "tags": []
   },
   "source": [
    "![Practicum AI Logo image](https://github.com/PracticumAI/practicumai.github.io/blob/main/images/logo/PracticumAI_logo_250x50.png?raw=true)  <img src='https://github.com/PracticumAI/practicumai.github.io/blob/main/images/icons/practicumai_python.png?raw=true' align='right' width=50>\n",
    "\n",
    "# *Practicum AI Python*: Functions\n",
    "\n",
    "This exercise adapted from Bird et al. (2019) <i>The Python Workshop</i> from <a href=\"https://www.packtpub.com/product/the-python-workshop/9781839218859\">Packt Publishers</a> and the <a href=\"https://github.com/swcarpentry/python-novice-gapminder\">Software Carpentries</a>\n",
    "\n",
    "(10 Minutes: Presentation)\n",
    "\n",
    "***\n",
    "\n",
    "> You can think of a function as a small program inside a program.  The basic idea of a function is that we write a sequence of statements and give that sequence a name. The instructions can then be executed at any point in the program by referring to the function name… when a function is subsequently used in a program, we say that the definition is called or invoked.  \n",
    ">\n",
    ">*John Zelle*\n",
    "\n",
    "Functions make coding easier to write, read and maintain. They reduce repetition and provide discrete mini-programs that once written and tested can be used over and over.\n",
    "\n",
    "We've been using Python functions since the start...`print` is a function! But the really cool thing is that **you** can (and should) write functions too! Functions are not complicated or limited to people with special skills. Conversely they can make your coding much easier!\n",
    "\n",
    "Two good indication of times to write a function is when you are tempted to copy and paste code from one section into another to re-use it, or when you think \"in this part of my code, I need to do this thing....\"\n",
    "\n",
    "The repeated code can likely be made into a function and called when needed. And the \"thing\" that needs to be done can also likely be written as a function.\n",
    "\n",
    "\n",
    "## 1. Break programs down into functions to make them easier to understand\n",
    "\n",
    "* Human beings can only keep a few items in working memory at a time.\n",
    "* Understand larger/more complicated ideas by understanding and combining pieces.\n",
    "    * Components in a machine.\n",
    "    * Lemmas when proving theorems.\n",
    "* Functions serve the same purpose in programs.\n",
    "    * *Encapsulate* complexity so that we can treat it as a single \"thing\".\n",
    "* Also enables *re-use*.\n",
    "    * Write one time, use many times.\n",
    "\n",
    "### 1.1. The Function as Contract\n",
    "\n",
    "![Practicum AI Logo image](images/relationship_agreement.jpg)\n",
    "\n",
    "In the Big Bang Theory TV series, the show's resident genius - Sheldon Cooper - enjoys creating legally-binding agreements that specify the particulars of any relationship he is presently in. His romance with Amy is regulated by a relationship agreement, as is his relationship with his roommate, Leonard Hofstadter.\n",
    "\n",
    "The fundamental concept behind functions is the notion of a contract. Just as Sheldon's relationship and roommate agreements ensure that the parties involved will act in regular and predictable ways, so too the interface to a function is like a contract. If a call to a function passes the correct arguments in the correct order, a well written function responds in a predictable way, providing the promised output.\n",
    "\n",
    "\n",
    "## 2. Define a function using `def` with a name, parameters, and a block of code\n",
    "\n",
    "* Begin the definition of a new function with `def`.\n",
    "* Followed by the name of the function.\n",
    "    * Must obey the same rules as variable names.\n",
    "* Then *parameters* in parentheses.\n",
    "    * Empty parentheses if the function doesn't take any inputs.\n",
    "* Then a colon.\n",
    "* Then an indented block of code.\n",
    "\n",
    "\n",
    "In Python, we can define a function using `def`:\n",
    "\n",
    "```python\n",
    "def add(x,y):\n",
    "    return x + y\n",
    "```\n",
    "\n",
    "The `add` function above adds two numbers. Let's run it below:\n"
   ]
  },
  {
   "cell_type": "code",
   "execution_count": null,
   "metadata": {},
   "outputs": [],
   "source": [
    "# Add the code above here\n",
    "\n",
    "\n",
    "# Run the function\n",
    "add(4,6)"
   ]
  },
  {
   "cell_type": "markdown",
   "metadata": {},
   "source": [
    "### 2.1 A function can take 0 or more inputs\n",
    "\n",
    "The `add` function above took two inputs, `x` and `y`. Not all functions take inputs.\n",
    "\n",
    "Inputs are also referred to as arguments."
   ]
  },
  {
   "cell_type": "code",
   "execution_count": 1,
   "metadata": {},
   "outputs": [],
   "source": [
    "# A function with no inputs\n",
    "\n",
    "def say_hello():\n",
    "    print('Hello!')\n",
    "    "
   ]
  },
  {
   "cell_type": "markdown",
   "metadata": {},
   "source": [
    "#### 2.1.1. Defining a function does not run it\n",
    "\n",
    "* Defining the function is separate from running it. \n",
    "* Similarly, a function needs to be defined before it can be run."
   ]
  },
  {
   "cell_type": "code",
   "execution_count": null,
   "metadata": {},
   "outputs": [],
   "source": [
    "say_hello() # Note the parentheses here even though there are no inputs, these are needed"
   ]
  },
  {
   "cell_type": "markdown",
   "metadata": {},
   "source": [
    "### 2.2 Positional arguments\n",
    "\n",
    "In the `add` function, `x` and `y` are positional arguments--**the order arguments are passed to the function matters.** "
   ]
  },
  {
   "cell_type": "code",
   "execution_count": null,
   "metadata": {},
   "outputs": [],
   "source": [
    "def order(x,y):\n",
    "    print(f'{x} is first')\n",
    "    print(f'{y} is second')\n",
    "    \n",
    "order(3,4)\n",
    "order(4,3)"
   ]
  },
  {
   "cell_type": "markdown",
   "metadata": {},
   "source": [
    "### 2.3. Functions may only work for certain (combinations of) arguments.\n",
    "\n",
    "   * `max` and `min` must be given at least one argument.\n",
    "        * \"Largest of the empty set\" is a meaningless question.\n",
    "   * And they must be given things that can meaningfully be compared."
   ]
  },
  {
   "cell_type": "code",
   "execution_count": null,
   "metadata": {},
   "outputs": [],
   "source": [
    "# This will produce an error\n",
    "\n",
    "# print(max(1,'a'))\n",
    "help(max)"
   ]
  },
  {
   "cell_type": "markdown",
   "metadata": {},
   "source": [
    "### 2.4 Keyword arguments\n",
    "\n",
    "Sometimes, especially as the number of arguments grows, it can be easier to use keyword arguments. These can also be optional and have default values if not specified. This allows functions to behave somewhat differently based on the number of arguments passed in."
   ]
  },
  {
   "cell_type": "code",
   "execution_count": null,
   "metadata": {},
   "outputs": [],
   "source": [
    "def say_hello(friend, other_friend = None):\n",
    "    if other_friend:  # Not None, so was passed in\n",
    "        print(f'Hello {friend} and {other_friend}!')\n",
    "    else:\n",
    "        print(f'Hi {friend}!')\n",
    "\n",
    "say_hello('Jan')\n",
    "\n",
    "# Pass by keywork\n",
    "say_hello(friend = 'Jan', other_friend = 'Joan')\n",
    "\n",
    "# Pass by position\n",
    "say_hello('Jan','Joan')"
   ]
  },
  {
   "cell_type": "markdown",
   "metadata": {},
   "source": [
    "#### 2.4.1. Functions may have default values for some arguments\n",
    "\n",
    "* `round` will round off a floating-point number.\n",
    "* By default, rounds to zero decimal places."
   ]
  },
  {
   "cell_type": "code",
   "execution_count": null,
   "metadata": {},
   "outputs": [],
   "source": [
    "round(3.712)"
   ]
  },
  {
   "cell_type": "markdown",
   "metadata": {},
   "source": [
    "* We can specify the number of decimal places we want."
   ]
  },
  {
   "cell_type": "code",
   "execution_count": null,
   "metadata": {},
   "outputs": [],
   "source": [
    "round(3.712, 1)"
   ]
  },
  {
   "cell_type": "markdown",
   "metadata": {},
   "source": [
    "## 3. Use the built-in function `help` to get help for a function\n",
    "\n",
    "Built-in function have documentation--functions you write should as well!"
   ]
  },
  {
   "cell_type": "code",
   "execution_count": null,
   "metadata": {},
   "outputs": [],
   "source": [
    "help(round)"
   ]
  },
  {
   "cell_type": "markdown",
   "metadata": {},
   "source": [
    "### 3.1 Jupyter  has two ways to get help\n",
    "\n",
    "* Place the cursor inside the parenthesis of the function, hold down `shift`, and press `tab`.\n",
    "* Or type a function name with a question mark after it.\n",
    "\n",
    "### 3.2. Writing your own `docstring`\n",
    "\n",
    "The documentation for a function comes from what is called the `docstring`. This is a multi-line string at the start of the function:"
   ]
  },
  {
   "cell_type": "code",
   "execution_count": 9,
   "metadata": {},
   "outputs": [],
   "source": [
    "def say_hello(friend, other_friend=None):\n",
    "    '''Greet one or two friends.'''\n",
    "    if other_friend:  # Not None, so was passed in\n",
    "        print(f'Hello {friend} and {other_friend}!')\n",
    "    else:\n",
    "        print(f'Hi {friend}!')"
   ]
  },
  {
   "cell_type": "code",
   "execution_count": null,
   "metadata": {},
   "outputs": [],
   "source": [
    "help(say_hello)"
   ]
  },
  {
   "cell_type": "markdown",
   "metadata": {},
   "source": [
    "Ideally the user, again often you, should be able to read the docstring and know what the function does, what inputs it takes, and what the function returns (see below). \n",
    "\n",
    "The name of the function should also convey the purpose of the function."
   ]
  },
  {
   "cell_type": "markdown",
   "metadata": {},
   "source": [
    "## 4. Every function returns something\n",
    "\n",
    "* Every function call produces some result.\n",
    "* If the function doesn't have a useful result to return, it usually returns the special value `None`."
   ]
  },
  {
   "cell_type": "code",
   "execution_count": null,
   "metadata": {},
   "outputs": [],
   "source": [
    "result = print('example')\n",
    "print(f'Result of print is: {result}')"
   ]
  },
  {
   "cell_type": "markdown",
   "metadata": {},
   "source": [
    "The `return` in the function determines what is returned..."
   ]
  },
  {
   "cell_type": "code",
   "execution_count": null,
   "metadata": {},
   "outputs": [],
   "source": [
    "def say_hello(friend, other_friend=None):\n",
    "    '''Greet one or two friends. Retunrs friend count'''\n",
    "    if other_friend:  # Not None, so was passed in\n",
    "        print(f'Hello {friend} and {other_friend}!')\n",
    "        return 2\n",
    "    else:\n",
    "        print(f'Hi {friend}!')\n",
    "        return 1\n",
    "    \n",
    "friends = say_hello('Jan', 'Joan')\n",
    "print(f'I have {friends} firends')"
   ]
  },
  {
   "cell_type": "markdown",
   "metadata": {},
   "source": [
    "***\n",
    "\n",
    "## Bonus Questions"
   ]
  },
  {
   "cell_type": "markdown",
   "metadata": {},
   "source": [
    "#### Q1: What Happens When"
   ]
  },
  {
   "cell_type": "markdown",
   "metadata": {},
   "source": [
    "1. Explain in simple terms the order of operations in the folloing program: when does the addition happen, when does the subtraction happen, when is each function called?\n",
    "2. What is the final value of `radiance`?"
   ]
  },
  {
   "cell_type": "code",
   "execution_count": null,
   "metadata": {},
   "outputs": [],
   "source": [
    "radiance = 1.0\n",
    "radiance = max(2.1, 2.0 + min(radiance, 1.1 * radiance - 0.5))"
   ]
  },
  {
   "cell_type": "markdown",
   "metadata": {},
   "source": [
    "**Solution**\n",
    "\n",
    "Click on the '...' below to show the solution."
   ]
  },
  {
   "cell_type": "code",
   "execution_count": null,
   "metadata": {
    "jupyter": {
     "source_hidden": true
    }
   },
   "outputs": [],
   "source": [
    "# 1. --------------------------------------\n",
    "#   1. 1.1 * radiance = 1.1\n",
    "#   2. 1.1 - 0.5 = 0.6\n",
    "#   3. min(randiance, 0.6) = 0.6\n",
    "#   4. 2.0 + 0.6 = 2.6\n",
    "#   5. max(2.1, 2.6) = 2.6\n",
    "\n",
    "# 2. --------------------------------------\n",
    "radiance = 1.0\n",
    "radiance = max(2.1, 2.0 + min(radiance, 1.1 * radiance - 0.5))\n",
    "print(radiance)"
   ]
  },
  {
   "cell_type": "markdown",
   "metadata": {},
   "source": [
    "#### Q2: Spot the DIfference "
   ]
  },
  {
   "cell_type": "markdown",
   "metadata": {},
   "source": [
    "1. Predict what each of the `print` statements in the program below will print.\n",
    "2. Does `max(len(rich), poor)` run or produce an error message? If it runs, does its result make any senese? "
   ]
  },
  {
   "cell_type": "code",
   "execution_count": null,
   "metadata": {},
   "outputs": [],
   "source": [
    "easy_string = \"abc\"\n",
    "print(max(easy_string))\n",
    "rich = \"gold\"\n",
    "poor = \"tin\"\n",
    "print(max(rich, poor))\n",
    "print(max(len(rich, len(poor))))"
   ]
  },
  {
   "cell_type": "markdown",
   "metadata": {},
   "source": [
    "**Solution**\n",
    "\n",
    "Click on the '...' below to show the solution."
   ]
  },
  {
   "cell_type": "code",
   "execution_count": null,
   "metadata": {
    "jupyter": {
     "source_hidden": true
    }
   },
   "outputs": [],
   "source": [
    "# 1. ------------------------------------------------\n",
    "# print(max(easy_string))\n",
    "# c\n",
    "# print(max(rich,poor))\n",
    "# tin\n",
    "# print(max(len(rich), len(poor)))\n",
    "# 4\n",
    "\n",
    "# 2. ------------------------------------------------\n",
    "# It throws a TypeError. The command is trying to run max(4, 'tin') and you \n",
    "# can't operate on both a string and an integer."
   ]
  },
  {
   "cell_type": "markdown",
   "metadata": {},
   "source": [
    "#### Q3: Why Not?"
   ]
  },
  {
   "cell_type": "markdown",
   "metadata": {},
   "source": [
    "Why don't `max` and `min` return `None` when they are given no arguments?"
   ]
  },
  {
   "cell_type": "markdown",
   "metadata": {},
   "source": [
    "**Solution**\n",
    "\n",
    "Click on the '...' below to show the solution."
   ]
  },
  {
   "cell_type": "code",
   "execution_count": null,
   "metadata": {
    "jupyter": {
     "source_hidden": true
    }
   },
   "outputs": [],
   "source": [
    "# `max` and `min` return TypeErrors in this case because the correct number of \n",
    "# parameters was not supplied. If it just returned `None`, the error would be \n",
    "# much harder to trace as it would likely be stored into a variable and used \n",
    "# later in the program, only to likely throw a runtime error. "
   ]
  },
  {
   "cell_type": "markdown",
   "metadata": {},
   "source": [
    "#### Q4: Last Character of a String"
   ]
  },
  {
   "cell_type": "markdown",
   "metadata": {},
   "source": [
    "If Python starts counting from zero, and `len` returns the number of charatceers in a string, what index expression will get the last character in the string `name`? (Note: we will see a simpler way to do this in a later episode.)"
   ]
  },
  {
   "cell_type": "markdown",
   "metadata": {},
   "source": [
    "**Solution**\n",
    "\n",
    "Click on the '...' below to show the solution."
   ]
  },
  {
   "cell_type": "code",
   "execution_count": null,
   "metadata": {
    "jupyter": {
     "source_hidden": true
    }
   },
   "outputs": [],
   "source": [
    "name = 'abc'\n",
    "name[len(name) - 1]"
   ]
  }
 ],
 "metadata": {
  "kernelspec": {
   "display_name": "UFRC Python-3.8",
   "language": "python",
   "name": "python3-3.8-ufrc"
  },
  "language_info": {
   "codemirror_mode": {
    "name": "ipython",
    "version": 3
   },
   "file_extension": ".py",
   "mimetype": "text/x-python",
   "name": "python",
   "nbconvert_exporter": "python",
   "pygments_lexer": "ipython3",
   "version": "3.8.5"
  }
 },
 "nbformat": 4,
 "nbformat_minor": 4
}
