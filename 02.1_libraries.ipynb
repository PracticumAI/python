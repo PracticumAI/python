{
 "cells": [
  {
   "cell_type": "markdown",
   "metadata": {},
   "source": [
    "![Practicum AI Logo image](https://github.com/PracticumAI/practicumai.github.io/blob/main/images/logo/PracticumAI_logo_250x50.png?raw=true)  <img src='https://github.com/PracticumAI/practicumai.github.io/blob/main/images/icons/practicumai_python.png?raw=true' align='right' width=50>\n",
    "\n",
    "# *Practicum AI Python*: Libraries\n",
    "\n",
    "***\n",
    "This exercise adapted from the <a href=\"https://github.com/swcarpentry/python-novice-gapminder\">Software Carpentries</a>\n",
    "\n",
    "(15 Minutes: Presentation)\n",
    "\n",
    "## 1. The power of a programming language is in its libraries\n",
    "\n",
    "* A *library* is a collection of files (called *modules*) that contains functions for use by other programs.\n",
    "    * May also contain data values (e.g., numerical constants) and other things.\n",
    "    * Library's contents are supposed to be related, but there's no way to enforce that.\n",
    "* The Python [standard library](https://docs.python.org/3/library/) is an extensive suite of modules that comes with Python itself.\n",
    "* Many additional libraries are available from [PyPI](https://pypi.python.org/pypi/) (the Python Package Index).\n",
    "* We will see later how to write new libraries.\n",
    "\n",
    "### 1.1 Libraries and modules\n",
    "\n",
    "A library is a collection of modules, but **the terms are often used interchangeably**, especially since many libraries only consist of a single module.\n",
    "\n",
    "### 1.2. A program must import a library module before using it\n",
    "\n",
    "* Use `import` to load a library module into a program's memory.\n",
    "* Then refer to things from the module as `module_name.thing_name`.\n",
    "    * Python uses `.` to mean \"part of\".\n",
    "* Here is an example of using the `math` library, one of the libraries in the standard library:"
   ]
  },
  {
   "cell_type": "code",
   "execution_count": 2,
   "metadata": {},
   "outputs": [
    {
     "name": "stdout",
     "output_type": "stream",
     "text": [
      "pi is 3.141592653589793\n",
      "cos(pi) is -1.0\n"
     ]
    }
   ],
   "source": [
    "import math\n",
    "\n",
    "print('pi is', math.pi)\n",
    "print('cos(pi) is', math.cos(math.pi))"
   ]
  },
  {
   "cell_type": "markdown",
   "metadata": {},
   "source": [
    "* You have to refer to each item using the containing module's name.\n",
    "    * `math.cos(pi)` won't work: the reference to `pi` doesn't somehow \"inherit\" the function's reference to `math`."
   ]
  },
  {
   "cell_type": "markdown",
   "metadata": {},
   "source": [
    "### 1.3. Use `help` to learn about the contents of a library module.\n",
    "\n",
    "Works just like help for a function."
   ]
  },
  {
   "cell_type": "code",
   "execution_count": 3,
   "metadata": {},
   "outputs": [
    {
     "name": "stdout",
     "output_type": "stream",
     "text": [
      "Help on module math:\n",
      "\n",
      "NAME\n",
      "    math\n",
      "\n",
      "MODULE REFERENCE\n",
      "    https://docs.python.org/3.8/library/math\n",
      "    \n",
      "    The following documentation is automatically generated from the Python\n",
      "    source files.  It may be incomplete, incorrect or include features that\n",
      "    are considered implementation detail and may vary between Python\n",
      "    implementations.  When in doubt, consult the module reference at the\n",
      "    location listed above.\n",
      "\n",
      "DESCRIPTION\n",
      "    This module provides access to the mathematical functions\n",
      "    defined by the C standard.\n",
      "\n",
      "FUNCTIONS\n",
      "    acos(x, /)\n",
      "        Return the arc cosine (measured in radians) of x.\n",
      "    \n",
      "    acosh(x, /)\n",
      "        Return the inverse hyperbolic cosine of x.\n",
      "    \n",
      "    asin(x, /)\n",
      "        Return the arc sine (measured in radians) of x.\n",
      "    \n",
      "    asinh(x, /)\n",
      "        Return the inverse hyperbolic sine of x.\n",
      "    \n",
      "    atan(x, /)\n",
      "        Return the arc tangent (measured in radians) of x.\n",
      "    \n",
      "    atan2(y, x, /)\n",
      "        Return the arc tangent (measured in radians) of y/x.\n",
      "        \n",
      "        Unlike atan(y/x), the signs of both x and y are considered.\n",
      "    \n",
      "    atanh(x, /)\n",
      "        Return the inverse hyperbolic tangent of x.\n",
      "    \n",
      "    ceil(x, /)\n",
      "        Return the ceiling of x as an Integral.\n",
      "        \n",
      "        This is the smallest integer >= x.\n",
      "    \n",
      "    comb(n, k, /)\n",
      "        Number of ways to choose k items from n items without repetition and without order.\n",
      "        \n",
      "        Evaluates to n! / (k! * (n - k)!) when k <= n and evaluates\n",
      "        to zero when k > n.\n",
      "        \n",
      "        Also called the binomial coefficient because it is equivalent\n",
      "        to the coefficient of k-th term in polynomial expansion of the\n",
      "        expression (1 + x)**n.\n",
      "        \n",
      "        Raises TypeError if either of the arguments are not integers.\n",
      "        Raises ValueError if either of the arguments are negative.\n",
      "    \n",
      "    copysign(x, y, /)\n",
      "        Return a float with the magnitude (absolute value) of x but the sign of y.\n",
      "        \n",
      "        On platforms that support signed zeros, copysign(1.0, -0.0)\n",
      "        returns -1.0.\n",
      "    \n",
      "    cos(x, /)\n",
      "        Return the cosine of x (measured in radians).\n",
      "    \n",
      "    cosh(x, /)\n",
      "        Return the hyperbolic cosine of x.\n",
      "    \n",
      "    degrees(x, /)\n",
      "        Convert angle x from radians to degrees.\n",
      "    \n",
      "    dist(p, q, /)\n",
      "        Return the Euclidean distance between two points p and q.\n",
      "        \n",
      "        The points should be specified as sequences (or iterables) of\n",
      "        coordinates.  Both inputs must have the same dimension.\n",
      "        \n",
      "        Roughly equivalent to:\n",
      "            sqrt(sum((px - qx) ** 2.0 for px, qx in zip(p, q)))\n",
      "    \n",
      "    erf(x, /)\n",
      "        Error function at x.\n",
      "    \n",
      "    erfc(x, /)\n",
      "        Complementary error function at x.\n",
      "    \n",
      "    exp(x, /)\n",
      "        Return e raised to the power of x.\n",
      "    \n",
      "    expm1(x, /)\n",
      "        Return exp(x)-1.\n",
      "        \n",
      "        This function avoids the loss of precision involved in the direct evaluation of exp(x)-1 for small x.\n",
      "    \n",
      "    fabs(x, /)\n",
      "        Return the absolute value of the float x.\n",
      "    \n",
      "    factorial(x, /)\n",
      "        Find x!.\n",
      "        \n",
      "        Raise a ValueError if x is negative or non-integral.\n",
      "    \n",
      "    floor(x, /)\n",
      "        Return the floor of x as an Integral.\n",
      "        \n",
      "        This is the largest integer <= x.\n",
      "    \n",
      "    fmod(x, y, /)\n",
      "        Return fmod(x, y), according to platform C.\n",
      "        \n",
      "        x % y may differ.\n",
      "    \n",
      "    frexp(x, /)\n",
      "        Return the mantissa and exponent of x, as pair (m, e).\n",
      "        \n",
      "        m is a float and e is an int, such that x = m * 2.**e.\n",
      "        If x is 0, m and e are both 0.  Else 0.5 <= abs(m) < 1.0.\n",
      "    \n",
      "    fsum(seq, /)\n",
      "        Return an accurate floating point sum of values in the iterable seq.\n",
      "        \n",
      "        Assumes IEEE-754 floating point arithmetic.\n",
      "    \n",
      "    gamma(x, /)\n",
      "        Gamma function at x.\n",
      "    \n",
      "    gcd(x, y, /)\n",
      "        greatest common divisor of x and y\n",
      "    \n",
      "    hypot(...)\n",
      "        hypot(*coordinates) -> value\n",
      "        \n",
      "        Multidimensional Euclidean distance from the origin to a point.\n",
      "        \n",
      "        Roughly equivalent to:\n",
      "            sqrt(sum(x**2 for x in coordinates))\n",
      "        \n",
      "        For a two dimensional point (x, y), gives the hypotenuse\n",
      "        using the Pythagorean theorem:  sqrt(x*x + y*y).\n",
      "        \n",
      "        For example, the hypotenuse of a 3/4/5 right triangle is:\n",
      "        \n",
      "            >>> hypot(3.0, 4.0)\n",
      "            5.0\n",
      "    \n",
      "    isclose(a, b, *, rel_tol=1e-09, abs_tol=0.0)\n",
      "        Determine whether two floating point numbers are close in value.\n",
      "        \n",
      "          rel_tol\n",
      "            maximum difference for being considered \"close\", relative to the\n",
      "            magnitude of the input values\n",
      "          abs_tol\n",
      "            maximum difference for being considered \"close\", regardless of the\n",
      "            magnitude of the input values\n",
      "        \n",
      "        Return True if a is close in value to b, and False otherwise.\n",
      "        \n",
      "        For the values to be considered close, the difference between them\n",
      "        must be smaller than at least one of the tolerances.\n",
      "        \n",
      "        -inf, inf and NaN behave similarly to the IEEE 754 Standard.  That\n",
      "        is, NaN is not close to anything, even itself.  inf and -inf are\n",
      "        only close to themselves.\n",
      "    \n",
      "    isfinite(x, /)\n",
      "        Return True if x is neither an infinity nor a NaN, and False otherwise.\n",
      "    \n",
      "    isinf(x, /)\n",
      "        Return True if x is a positive or negative infinity, and False otherwise.\n",
      "    \n",
      "    isnan(x, /)\n",
      "        Return True if x is a NaN (not a number), and False otherwise.\n",
      "    \n",
      "    isqrt(n, /)\n",
      "        Return the integer part of the square root of the input.\n",
      "    \n",
      "    ldexp(x, i, /)\n",
      "        Return x * (2**i).\n",
      "        \n",
      "        This is essentially the inverse of frexp().\n",
      "    \n",
      "    lgamma(x, /)\n",
      "        Natural logarithm of absolute value of Gamma function at x.\n",
      "    \n",
      "    log(...)\n",
      "        log(x, [base=math.e])\n",
      "        Return the logarithm of x to the given base.\n",
      "        \n",
      "        If the base not specified, returns the natural logarithm (base e) of x.\n",
      "    \n",
      "    log10(x, /)\n",
      "        Return the base 10 logarithm of x.\n",
      "    \n",
      "    log1p(x, /)\n",
      "        Return the natural logarithm of 1+x (base e).\n",
      "        \n",
      "        The result is computed in a way which is accurate for x near zero.\n",
      "    \n",
      "    log2(x, /)\n",
      "        Return the base 2 logarithm of x.\n",
      "    \n",
      "    modf(x, /)\n",
      "        Return the fractional and integer parts of x.\n",
      "        \n",
      "        Both results carry the sign of x and are floats.\n",
      "    \n",
      "    perm(n, k=None, /)\n",
      "        Number of ways to choose k items from n items without repetition and with order.\n",
      "        \n",
      "        Evaluates to n! / (n - k)! when k <= n and evaluates\n",
      "        to zero when k > n.\n",
      "        \n",
      "        If k is not specified or is None, then k defaults to n\n",
      "        and the function returns n!.\n",
      "        \n",
      "        Raises TypeError if either of the arguments are not integers.\n",
      "        Raises ValueError if either of the arguments are negative.\n",
      "    \n",
      "    pow(x, y, /)\n",
      "        Return x**y (x to the power of y).\n",
      "    \n",
      "    prod(iterable, /, *, start=1)\n",
      "        Calculate the product of all the elements in the input iterable.\n",
      "        \n",
      "        The default start value for the product is 1.\n",
      "        \n",
      "        When the iterable is empty, return the start value.  This function is\n",
      "        intended specifically for use with numeric values and may reject\n",
      "        non-numeric types.\n",
      "    \n",
      "    radians(x, /)\n",
      "        Convert angle x from degrees to radians.\n",
      "    \n",
      "    remainder(x, y, /)\n",
      "        Difference between x and the closest integer multiple of y.\n",
      "        \n",
      "        Return x - n*y where n*y is the closest integer multiple of y.\n",
      "        In the case where x is exactly halfway between two multiples of\n",
      "        y, the nearest even value of n is used. The result is always exact.\n",
      "    \n",
      "    sin(x, /)\n",
      "        Return the sine of x (measured in radians).\n",
      "    \n",
      "    sinh(x, /)\n",
      "        Return the hyperbolic sine of x.\n",
      "    \n",
      "    sqrt(x, /)\n",
      "        Return the square root of x.\n",
      "    \n",
      "    tan(x, /)\n",
      "        Return the tangent of x (measured in radians).\n",
      "    \n",
      "    tanh(x, /)\n",
      "        Return the hyperbolic tangent of x.\n",
      "    \n",
      "    trunc(x, /)\n",
      "        Truncates the Real x to the nearest Integral toward 0.\n",
      "        \n",
      "        Uses the __trunc__ magic method.\n",
      "\n",
      "DATA\n",
      "    e = 2.718281828459045\n",
      "    inf = inf\n",
      "    nan = nan\n",
      "    pi = 3.141592653589793\n",
      "    tau = 6.283185307179586\n",
      "\n",
      "FILE\n",
      "    /apps/python/3.8/lib/python3.8/lib-dynload/math.cpython-38-x86_64-linux-gnu.so\n",
      "\n",
      "\n"
     ]
    }
   ],
   "source": [
    "help(math)"
   ]
  },
  {
   "cell_type": "code",
   "execution_count": 4,
   "metadata": {},
   "outputs": [
    {
     "ename": "IndentationError",
     "evalue": "unexpected indent (3151117798.py, line 2)",
     "output_type": "error",
     "traceback": [
      "\u001b[0;36m  File \u001b[0;32m\"/scratch/local/35280720/ipykernel_204523/3151117798.py\"\u001b[0;36m, line \u001b[0;32m2\u001b[0m\n\u001b[0;31m    math\u001b[0m\n\u001b[0m    ^\u001b[0m\n\u001b[0;31mIndentationError\u001b[0m\u001b[0;31m:\u001b[0m unexpected indent\n"
     ]
    }
   ],
   "source": [
    "NAME\n",
    "    math\n",
    "\n",
    "MODULE REFERENCE\n",
    "    http://docs.python.org/3/library/math\n",
    "\n",
    "    The following documentation is automatically generated from the Python\n",
    "    source files.  It may be incomplete, incorrect or include features that\n",
    "    are considered implementation detail and may vary between Python\n",
    "    implementations.  When in doubt, consult the module reference at the\n",
    "    location listed above.\n",
    "\n",
    "DESCRIPTION\n",
    "    This module is always available.  It provides access to the\n",
    "    mathematical functions defined by the C standard.\n",
    "\n",
    "FUNCTIONS\n",
    "    acos(...)\n",
    "        acos(x)\n",
    "\n",
    "        Return the arc cosine (measured in radians) of x."
   ]
  },
  {
   "cell_type": "markdown",
   "metadata": {},
   "source": [
    "## 2. Import specific items from a library module to shorten programs\n",
    "\n",
    "* >Use `from ______ import _____` to load only specific items from a library.\n",
    "* Then refer to them directly without library name as prefix."
   ]
  },
  {
   "cell_type": "code",
   "execution_count": 5,
   "metadata": {},
   "outputs": [
    {
     "name": "stdout",
     "output_type": "stream",
     "text": [
      "cos(pi) is -1.0\n"
     ]
    }
   ],
   "source": [
    "from math import cos, pi\n",
    "\n",
    "print('cos(pi) is', cos(pi))"
   ]
  },
  {
   "cell_type": "markdown",
   "metadata": {},
   "source": [
    "## 3. Create an alias for a library module when importing it to shorten programs\n",
    "\n",
    "* Use `import _____ as _____` to give a library a short *alias* while importing it.\n",
    "* Then refer to items in the library using that shortened name."
   ]
  },
  {
   "cell_type": "code",
   "execution_count": 6,
   "metadata": {},
   "outputs": [
    {
     "name": "stdout",
     "output_type": "stream",
     "text": [
      "cos(pi) is -1.0\n"
     ]
    }
   ],
   "source": [
    "import math as m\n",
    "\n",
    "print('cos(pi) is', m.cos(m.pi))"
   ]
  },
  {
   "cell_type": "markdown",
   "metadata": {},
   "source": [
    "* Commonly used for libraries that are frequently used or have long names.\n",
    "    * E.g., The `pandas` library is often aliased as `pd`.\n",
    "* But can make programs harder to understand, since readers must learn your program's aliases.\n",
    "* While you *can* use anything for an alias, if there is a commonly used alias, like `pd`, use the convention! "
   ]
  },
  {
   "cell_type": "markdown",
   "metadata": {},
   "source": [
    "## Questions"
   ]
  },
  {
   "cell_type": "markdown",
   "metadata": {},
   "source": [
    "#### Q1: Exploring Math Module"
   ]
  },
  {
   "cell_type": "markdown",
   "metadata": {},
   "source": [
    "1. What function from the `math` module can you use to calculate a square root *without* using `sqrt`?\n",
    "2. Since the library contains this function, why does `sqrt` exist?"
   ]
  },
  {
   "cell_type": "markdown",
   "metadata": {},
   "source": [
    "**Solution**\n",
    "\n",
    "Click on the '...' below to show the solution."
   ]
  },
  {
   "cell_type": "code",
   "execution_count": 1,
   "metadata": {
    "jupyter": {
     "source_hidden": true
    },
    "tags": []
   },
   "outputs": [],
   "source": [
    "# 1. Using the help(math) we see the we've got pow(x,y) in additon to sqrt(x)\n",
    "# 2. The sqrt(x) fucntion (like much of the `math` library) has it's origins \n",
    "#    in C's math library. Consequently, it might be somewhat faster than pow(x,y). \n",
    "#    Also, it might be more readable than pow(x, 0.5) when implementing equations. \n",
    "#    However, sqrt(x) doesn't support negative arguments."
   ]
  },
  {
   "cell_type": "markdown",
   "metadata": {},
   "source": [
    "#### Q2: Locating the Right Module"
   ]
  },
  {
   "cell_type": "markdown",
   "metadata": {},
   "source": [
    "You want to select a random character from a string:"
   ]
  },
  {
   "cell_type": "code",
   "execution_count": null,
   "metadata": {},
   "outputs": [],
   "source": [
    "bases = 'ACTTGCTTGAC'"
   ]
  },
  {
   "cell_type": "markdown",
   "metadata": {},
   "source": [
    "1. What standard library module could help you?\n",
    "2. Which function would you select from that module? Are there alternatives?\n",
    "3. Try to write a program that uses the function."
   ]
  },
  {
   "cell_type": "markdown",
   "metadata": {},
   "source": [
    "**Solution**\n",
    "\n",
    "Click on the '...' below to show the solution."
   ]
  },
  {
   "cell_type": "code",
   "execution_count": 2,
   "metadata": {
    "jupyter": {
     "source_hidden": true
    }
   },
   "outputs": [],
   "source": [
    "# The [random module](randommod) seems like it could help you.\n",
    "\n",
    "# The string has 11 characters, each having a positional index from 0 to 10. You \n",
    "# could use `random.randrange` function (or the alias `random.randint`\n",
    "# if you find that easier to remember) to get a random integer between 0 and\n",
    "# 10, and then pick out the character at that position:\n",
    "\n",
    "from random import randrange\n",
    "random_index = randrange(len(bases))\n",
    "print(bases[random_index])\n",
    "\n",
    "# or more compactly:\n",
    "\n",
    "from random import randrange\n",
    "print(bases[randrange(len(bases))])\n",
    "\n",
    "# Perhaps you found the `random.sample` function? It allows for slightly \n",
    "# less typing:\n",
    "\n",
    "from random import sample\n",
    "print(sample(bases, 1)[0])\n",
    "\n",
    "# Note that this function returns a list of values. We will learn about lists \n",
    "# in episode 11.\n",
    "\n",
    "# There's also other functions you could use, but with more convoluted code as \n",
    "# a result."
   ]
  },
  {
   "cell_type": "markdown",
   "metadata": {},
   "source": [
    "#### Q3: Jigsaw Puzzle (Parson's Problem) Programming Example"
   ]
  },
  {
   "cell_type": "markdown",
   "metadata": {},
   "source": [
    "Rearrange the following statements so that random DNA base is printed and its index in the string. Not all statements may be needed. feel free to tuse/add intermediate variables."
   ]
  },
  {
   "cell_type": "code",
   "execution_count": null,
   "metadata": {},
   "outputs": [],
   "source": [
    "bases=\"ACTTGCTTGAC\"\n",
    "import math\n",
    "import random\n",
    "____ = random.randrange(n_bases)\n",
    "____ = len(bases)\n",
    "print(\"random base \", bases[___], \"base index\", ___)"
   ]
  },
  {
   "cell_type": "markdown",
   "metadata": {},
   "source": [
    "**Solution**\n",
    "\n",
    "Click on the '...' below to show the solution."
   ]
  },
  {
   "cell_type": "code",
   "execution_count": 3,
   "metadata": {
    "jupyter": {
     "source_hidden": true
    }
   },
   "outputs": [],
   "source": [
    "import math\n",
    "import random\n",
    "\n",
    "bases = \"ACTTGCTTGAC\"\n",
    "n_bases = len(bases)\n",
    "idx = random.randrange(n_bases)\n",
    "\n",
    "print(\"random base\", bases[idx], \"base index\", idx)"
   ]
  },
  {
   "cell_type": "markdown",
   "metadata": {},
   "source": [
    "#### Q4: When is help available?"
   ]
  },
  {
   "cell_type": "markdown",
   "metadata": {},
   "source": [
    "When a colleague of yours types `help(math)`, Python reports an error:"
   ]
  },
  {
   "cell_type": "markdown",
   "metadata": {},
   "source": [
    "`NameError: name 'math' is not defined`"
   ]
  },
  {
   "cell_type": "markdown",
   "metadata": {},
   "source": [
    "What has your colleague forgotten to do?"
   ]
  },
  {
   "cell_type": "markdown",
   "metadata": {},
   "source": [
    "**Solution**\n",
    "\n",
    "Click on the '...' below to show the solution."
   ]
  },
  {
   "cell_type": "code",
   "execution_count": 4,
   "metadata": {
    "jupyter": {
     "source_hidden": true
    }
   },
   "outputs": [],
   "source": [
    "import math"
   ]
  },
  {
   "cell_type": "markdown",
   "metadata": {},
   "source": [
    "#### Q5: Importing with Aliases"
   ]
  },
  {
   "cell_type": "markdown",
   "metadata": {},
   "source": [
    "1. Fill in the blanks so that the program below prints `90.0`\n",
    "2. Rewrite the program so that is ueses `import` *without* `as`.\n",
    "3. Which form do you find easier to read."
   ]
  },
  {
   "cell_type": "code",
   "execution_count": null,
   "metadata": {},
   "outputs": [],
   "source": [
    "import math as m\n",
    "angle = ___.degrees(___.pi / 2)\n",
    "print(___)"
   ]
  },
  {
   "cell_type": "markdown",
   "metadata": {},
   "source": [
    "**Solution**\n",
    "\n",
    "Click on the '...' below to show the solution."
   ]
  },
  {
   "cell_type": "code",
   "execution_count": 5,
   "metadata": {
    "jupyter": {
     "source_hidden": true
    }
   },
   "outputs": [],
   "source": [
    "# 1. ------------------------------------------\n",
    "import math as m\n",
    "angle = m.degrees(m.pi / 2)\n",
    "print(angle)\n",
    "\n",
    "# 2. ------------------------------------------\n",
    "import math\n",
    "angle = math.degrees(math.pi / 2)\n",
    "print(angle)\n",
    "\n",
    "# Since you just wrote the code and are familiar with it, you might actually \n",
    "# find the first version easier to read. But when trying to read a huge piece \n",
    "# of code written by someone else, or when getting back to your huge piece of \n",
    "# code after several months, non-abbreviated names are often easier except \n",
    "# when there are clear abbreviation conventions."
   ]
  },
  {
   "cell_type": "markdown",
   "metadata": {},
   "source": [
    "#### Q6: There are many Ways to Import Libraries"
   ]
  },
  {
   "cell_type": "markdown",
   "metadata": {},
   "source": [
    "Match the following print statements with the appropriate library calls. Print commands:"
   ]
  },
  {
   "cell_type": "markdown",
   "metadata": {},
   "source": [
    "1. `print(\"sin(pi/2) = \", sin(pi/2))`\n",
    "2. `print(\"sin(pi/2) =\", m.sin(m.pi/2))`\n",
    "3. `print(\"sin(pi/2) =\", math.sin(math.pi/2))`"
   ]
  },
  {
   "cell_type": "markdown",
   "metadata": {},
   "source": [
    "Library calls:"
   ]
  },
  {
   "cell_type": "markdown",
   "metadata": {},
   "source": [
    "1. `from math import sin,pi`\n",
    "2. `import math`\n",
    "3. `import math as m`\n",
    "4. `from math import`"
   ]
  },
  {
   "cell_type": "markdown",
   "metadata": {},
   "source": [
    "**Solution**\n",
    "\n",
    "Click on the '...' below to show the solution."
   ]
  },
  {
   "cell_type": "code",
   "execution_count": 6,
   "metadata": {
    "jupyter": {
     "source_hidden": true
    }
   },
   "outputs": [],
   "source": [
    "# 1. Library calls 1 and 4. In order to directly refer to `sin` and `pi` \n",
    "#    without the library name as prefix, tyou need to use the `from \n",
    "#    ... import ...` statement. Whereas library call 4 imports all functions \n",
    "#    in the `math` module.\n",
    "# 2. Library call 3. Here `sin` and `pi` are referred to with a shortened \n",
    "#    library name `m` instead of `math`. Library call 3 does exactly that using \n",
    "#    the `import ... as ...` syntax - it creates an alias for `math` in the \n",
    "#    form of the shortened name `m`.\n",
    "# 3. Library call 2. Here `sin` and `pi` are referred to with the regular \n",
    "#    library name `math`, so the regular `import ...` call suffices."
   ]
  },
  {
   "cell_type": "markdown",
   "metadata": {},
   "source": [
    "#### Q7: Importing Specific Items"
   ]
  },
  {
   "cell_type": "markdown",
   "metadata": {},
   "source": [
    "1. Fill in the blanks so that the program below prints 90.0\n",
    "2. Do you find this version easier to read than the preceding ones?\n",
    "3. Why *wouldn't* programmers always use this form of `import`?"
   ]
  },
  {
   "cell_type": "code",
   "execution_count": null,
   "metadata": {},
   "outputs": [],
   "source": [
    "___ math import ___, ___\n",
    "angle = degrees(pi / 2)\n",
    "print(angle)"
   ]
  },
  {
   "cell_type": "markdown",
   "metadata": {},
   "source": [
    "**Solution**\n",
    "\n",
    "Click on the '...' below to show the solution."
   ]
  },
  {
   "cell_type": "code",
   "execution_count": 7,
   "metadata": {
    "tags": []
   },
   "outputs": [],
   "source": [
    "from math import degrees, pi\n",
    "angle = degrees(pi / 2)\n",
    "print(angle)\n",
    "\n",
    "# Most likely you find this version easier to read since it's less dense.\n",
    "# The main reason not to use this form of import is to avoid name clashes.\n",
    "# For instance, you wouldn't import `degrees` this way if you also wanted to \n",
    "# use the name `degrees` for a variable or function of your own. Or if you \n",
    "# were to also import a function named `degrees` from another library. "
   ]
  },
  {
   "cell_type": "markdown",
   "metadata": {},
   "source": [
    "#### Q8: Reading Error Messages"
   ]
  },
  {
   "cell_type": "markdown",
   "metadata": {},
   "source": [
    "1. Read the code below and try to identify what the errors are without running it.\n",
    "2. Run the code, read the error message. What type of error is it?"
   ]
  },
  {
   "cell_type": "code",
   "execution_count": null,
   "metadata": {},
   "outputs": [],
   "source": [
    "from math import log\n",
    "log(0)"
   ]
  },
  {
   "cell_type": "markdown",
   "metadata": {},
   "source": [
    "**Solution**\n",
    "\n",
    "Click on the '...' below to show the solution."
   ]
  },
  {
   "cell_type": "code",
   "execution_count": 8,
   "metadata": {
    "jupyter": {
     "source_hidden": true
    }
   },
   "outputs": [],
   "source": [
    "# 1. The logarithm of `x` is only defined for `x > 0`, so 0 is outside of the \n",
    "#    domain of the function.\n",
    "# 2. You get an error of type \"ValueError\", indicating that the function received \n",
    "#    an inappropriate argument value. The additional message \"math domain error\" \n",
    "#    makes it clearer what the problem is."
   ]
  }
 ],
 "metadata": {
  "kernelspec": {
   "display_name": "UFRC Python-3.8",
   "language": "python",
   "name": "python3-3.8-ufrc"
  },
  "language_info": {
   "codemirror_mode": {
    "name": "ipython",
    "version": 3
   },
   "file_extension": ".py",
   "mimetype": "text/x-python",
   "name": "python",
   "nbconvert_exporter": "python",
   "pygments_lexer": "ipython3",
   "version": "3.8.5"
  }
 },
 "nbformat": 4,
 "nbformat_minor": 4
}
